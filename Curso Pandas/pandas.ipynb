{
 "metadata": {
  "language_info": {
   "codemirror_mode": {
    "name": "ipython",
    "version": 3
   },
   "file_extension": ".py",
   "mimetype": "text/x-python",
   "name": "python",
   "nbconvert_exporter": "python",
   "pygments_lexer": "ipython3",
   "version": "3.8.5"
  },
  "orig_nbformat": 2,
  "kernelspec": {
   "name": "python385jvsc74a57bd0fb3d0b9394885e8da6cbf98fbf949c86e2ceadbdfb51251ea6d36f9091f0c647",
   "display_name": "Python 3.8.5 64-bit ('base': conda)"
  },
  "metadata": {
   "interpreter": {
    "hash": "916dbcbb3f70747c44a77c7bcd40155683ae19c65e1c03b4aa3499c5328201f1"
   }
  }
 },
 "nbformat": 4,
 "nbformat_minor": 2,
 "cells": [
  {
   "source": [
    "# Usando Json e Api do IBGE"
   ],
   "cell_type": "markdown",
   "metadata": {}
  },
  {
   "cell_type": "code",
   "execution_count": 1,
   "metadata": {},
   "outputs": [],
   "source": [
    "import pandas as pd"
   ]
  },
  {
   "source": [
    "## Carregando os dados da api"
   ],
   "cell_type": "markdown",
   "metadata": {}
  },
  {
   "cell_type": "code",
   "execution_count": 2,
   "metadata": {},
   "outputs": [],
   "source": [
    "nomes_m = pd.read_json(\"https://servicodados.ibge.gov.br/api/v1/censos/nomes/ranking?qtd=200&sexo=m\")"
   ]
  },
  {
   "cell_type": "code",
   "execution_count": 3,
   "metadata": {},
   "outputs": [],
   "source": [
    "nomes_f = pd.read_json(\"https://servicodados.ibge.gov.br/api/v1/censos/nomes/ranking?qtd=200&sexo=f\")"
   ]
  },
  {
   "source": [
    "### Criando um Data frame com apenas a coluna nome"
   ],
   "cell_type": "markdown",
   "metadata": {}
  },
  {
   "cell_type": "code",
   "execution_count": 4,
   "metadata": {},
   "outputs": [],
   "source": [
    "frames = [nomes_m, nomes_f]\n",
    "nomes = pd.concat(frames)['nome'].to_frame()"
   ]
  },
  {
   "cell_type": "code",
   "execution_count": 5,
   "metadata": {},
   "outputs": [
    {
     "output_type": "execute_result",
     "data": {
      "text/plain": [
       "         nome\n",
       "144    LORENA\n",
       "190    LURDES\n",
       "131  ANGELICA\n",
       "122      ADAO\n",
       "191    TERESA"
      ],
      "text/html": "<div>\n<style scoped>\n    .dataframe tbody tr th:only-of-type {\n        vertical-align: middle;\n    }\n\n    .dataframe tbody tr th {\n        vertical-align: top;\n    }\n\n    .dataframe thead th {\n        text-align: right;\n    }\n</style>\n<table border=\"1\" class=\"dataframe\">\n  <thead>\n    <tr style=\"text-align: right;\">\n      <th></th>\n      <th>nome</th>\n    </tr>\n  </thead>\n  <tbody>\n    <tr>\n      <th>144</th>\n      <td>LORENA</td>\n    </tr>\n    <tr>\n      <th>190</th>\n      <td>LURDES</td>\n    </tr>\n    <tr>\n      <th>131</th>\n      <td>ANGELICA</td>\n    </tr>\n    <tr>\n      <th>122</th>\n      <td>ADAO</td>\n    </tr>\n    <tr>\n      <th>191</th>\n      <td>TERESA</td>\n    </tr>\n  </tbody>\n</table>\n</div>"
     },
     "metadata": {},
     "execution_count": 5
    }
   ],
   "source": [
    "nomes.sample(5)"
   ]
  },
  {
   "source": [
    "## Gerando ID para os alunos"
   ],
   "cell_type": "markdown",
   "metadata": {}
  },
  {
   "cell_type": "code",
   "execution_count": 6,
   "metadata": {},
   "outputs": [],
   "source": [
    "import numpy as np"
   ]
  },
  {
   "cell_type": "code",
   "execution_count": 7,
   "metadata": {},
   "outputs": [
    {
     "output_type": "execute_result",
     "data": {
      "text/plain": [
       "400"
      ]
     },
     "metadata": {},
     "execution_count": 7
    }
   ],
   "source": [
    "total_alunos = nomes.shape[0]\n",
    "total_alunos"
   ]
  },
  {
   "cell_type": "code",
   "execution_count": 8,
   "metadata": {},
   "outputs": [
    {
     "output_type": "execute_result",
     "data": {
      "text/plain": [
       "          nome  id_aluno\n",
       "0         JOSE       234\n",
       "1         JOAO        51\n",
       "2      ANTONIO        41\n",
       "3    FRANCISCO       323\n",
       "4       CARLOS       143\n",
       "..         ...       ...\n",
       "195     ROSANE        70\n",
       "196    IVONETE       313\n",
       "197    LUCIANE       363\n",
       "198    ISADORA       126\n",
       "199      NILZA        80\n",
       "\n",
       "[400 rows x 2 columns]"
      ],
      "text/html": "<div>\n<style scoped>\n    .dataframe tbody tr th:only-of-type {\n        vertical-align: middle;\n    }\n\n    .dataframe tbody tr th {\n        vertical-align: top;\n    }\n\n    .dataframe thead th {\n        text-align: right;\n    }\n</style>\n<table border=\"1\" class=\"dataframe\">\n  <thead>\n    <tr style=\"text-align: right;\">\n      <th></th>\n      <th>nome</th>\n      <th>id_aluno</th>\n    </tr>\n  </thead>\n  <tbody>\n    <tr>\n      <th>0</th>\n      <td>JOSE</td>\n      <td>234</td>\n    </tr>\n    <tr>\n      <th>1</th>\n      <td>JOAO</td>\n      <td>51</td>\n    </tr>\n    <tr>\n      <th>2</th>\n      <td>ANTONIO</td>\n      <td>41</td>\n    </tr>\n    <tr>\n      <th>3</th>\n      <td>FRANCISCO</td>\n      <td>323</td>\n    </tr>\n    <tr>\n      <th>4</th>\n      <td>CARLOS</td>\n      <td>143</td>\n    </tr>\n    <tr>\n      <th>...</th>\n      <td>...</td>\n      <td>...</td>\n    </tr>\n    <tr>\n      <th>195</th>\n      <td>ROSANE</td>\n      <td>70</td>\n    </tr>\n    <tr>\n      <th>196</th>\n      <td>IVONETE</td>\n      <td>313</td>\n    </tr>\n    <tr>\n      <th>197</th>\n      <td>LUCIANE</td>\n      <td>363</td>\n    </tr>\n    <tr>\n      <th>198</th>\n      <td>ISADORA</td>\n      <td>126</td>\n    </tr>\n    <tr>\n      <th>199</th>\n      <td>NILZA</td>\n      <td>80</td>\n    </tr>\n  </tbody>\n</table>\n<p>400 rows × 2 columns</p>\n</div>"
     },
     "metadata": {},
     "execution_count": 8
    }
   ],
   "source": [
    "nomes['id_aluno'] = np.random.permutation(total_alunos) + 1 \n",
    "nomes"
   ]
  },
  {
   "source": [
    "## Gerando Emails para os alunos"
   ],
   "cell_type": "markdown",
   "metadata": {}
  },
  {
   "cell_type": "code",
   "execution_count": 9,
   "metadata": {},
   "outputs": [],
   "source": [
    "dominios_email = ['@gmail.com', '@hotmail.com']"
   ]
  },
  {
   "cell_type": "code",
   "execution_count": 10,
   "metadata": {},
   "outputs": [],
   "source": [
    "nomes['dominio'] = np.random.choice(dominios_email, total_alunos)"
   ]
  },
  {
   "cell_type": "code",
   "execution_count": 11,
   "metadata": {},
   "outputs": [
    {
     "output_type": "execute_result",
     "data": {
      "text/plain": [
       "          nome  id_aluno       dominio                  email\n",
       "0         JOSE       234  @hotmail.com       jose@hotmail.com\n",
       "1         JOAO        51    @gmail.com         joao@gmail.com\n",
       "2      ANTONIO        41  @hotmail.com    antonio@hotmail.com\n",
       "3    FRANCISCO       323  @hotmail.com  francisco@hotmail.com\n",
       "4       CARLOS       143  @hotmail.com     carlos@hotmail.com\n",
       "..         ...       ...           ...                    ...\n",
       "195     ROSANE        70  @hotmail.com     rosane@hotmail.com\n",
       "196    IVONETE       313    @gmail.com      ivonete@gmail.com\n",
       "197    LUCIANE       363  @hotmail.com    luciane@hotmail.com\n",
       "198    ISADORA       126    @gmail.com      isadora@gmail.com\n",
       "199      NILZA        80    @gmail.com        nilza@gmail.com\n",
       "\n",
       "[400 rows x 4 columns]"
      ],
      "text/html": "<div>\n<style scoped>\n    .dataframe tbody tr th:only-of-type {\n        vertical-align: middle;\n    }\n\n    .dataframe tbody tr th {\n        vertical-align: top;\n    }\n\n    .dataframe thead th {\n        text-align: right;\n    }\n</style>\n<table border=\"1\" class=\"dataframe\">\n  <thead>\n    <tr style=\"text-align: right;\">\n      <th></th>\n      <th>nome</th>\n      <th>id_aluno</th>\n      <th>dominio</th>\n      <th>email</th>\n    </tr>\n  </thead>\n  <tbody>\n    <tr>\n      <th>0</th>\n      <td>JOSE</td>\n      <td>234</td>\n      <td>@hotmail.com</td>\n      <td>jose@hotmail.com</td>\n    </tr>\n    <tr>\n      <th>1</th>\n      <td>JOAO</td>\n      <td>51</td>\n      <td>@gmail.com</td>\n      <td>joao@gmail.com</td>\n    </tr>\n    <tr>\n      <th>2</th>\n      <td>ANTONIO</td>\n      <td>41</td>\n      <td>@hotmail.com</td>\n      <td>antonio@hotmail.com</td>\n    </tr>\n    <tr>\n      <th>3</th>\n      <td>FRANCISCO</td>\n      <td>323</td>\n      <td>@hotmail.com</td>\n      <td>francisco@hotmail.com</td>\n    </tr>\n    <tr>\n      <th>4</th>\n      <td>CARLOS</td>\n      <td>143</td>\n      <td>@hotmail.com</td>\n      <td>carlos@hotmail.com</td>\n    </tr>\n    <tr>\n      <th>...</th>\n      <td>...</td>\n      <td>...</td>\n      <td>...</td>\n      <td>...</td>\n    </tr>\n    <tr>\n      <th>195</th>\n      <td>ROSANE</td>\n      <td>70</td>\n      <td>@hotmail.com</td>\n      <td>rosane@hotmail.com</td>\n    </tr>\n    <tr>\n      <th>196</th>\n      <td>IVONETE</td>\n      <td>313</td>\n      <td>@gmail.com</td>\n      <td>ivonete@gmail.com</td>\n    </tr>\n    <tr>\n      <th>197</th>\n      <td>LUCIANE</td>\n      <td>363</td>\n      <td>@hotmail.com</td>\n      <td>luciane@hotmail.com</td>\n    </tr>\n    <tr>\n      <th>198</th>\n      <td>ISADORA</td>\n      <td>126</td>\n      <td>@gmail.com</td>\n      <td>isadora@gmail.com</td>\n    </tr>\n    <tr>\n      <th>199</th>\n      <td>NILZA</td>\n      <td>80</td>\n      <td>@gmail.com</td>\n      <td>nilza@gmail.com</td>\n    </tr>\n  </tbody>\n</table>\n<p>400 rows × 4 columns</p>\n</div>"
     },
     "metadata": {},
     "execution_count": 11
    }
   ],
   "source": [
    "nomes['email'] = nomes.nome.str.cat(nomes.dominio).str.lower()\n",
    "nomes"
   ]
  },
  {
   "cell_type": "code",
   "execution_count": 12,
   "metadata": {},
   "outputs": [
    {
     "output_type": "execute_result",
     "data": {
      "text/plain": [
       "         nome  id_aluno       dominio                 email\n",
       "25    BEATRIZ       378  @hotmail.com   beatriz@hotmail.com\n",
       "111   CLEITON       360    @gmail.com     cleiton@gmail.com\n",
       "131  ANGELICA       292  @hotmail.com  angelica@hotmail.com\n",
       "161    DAMIAO        11    @gmail.com      damiao@gmail.com\n",
       "86      MAURO       233    @gmail.com       mauro@gmail.com"
      ],
      "text/html": "<div>\n<style scoped>\n    .dataframe tbody tr th:only-of-type {\n        vertical-align: middle;\n    }\n\n    .dataframe tbody tr th {\n        vertical-align: top;\n    }\n\n    .dataframe thead th {\n        text-align: right;\n    }\n</style>\n<table border=\"1\" class=\"dataframe\">\n  <thead>\n    <tr style=\"text-align: right;\">\n      <th></th>\n      <th>nome</th>\n      <th>id_aluno</th>\n      <th>dominio</th>\n      <th>email</th>\n    </tr>\n  </thead>\n  <tbody>\n    <tr>\n      <th>25</th>\n      <td>BEATRIZ</td>\n      <td>378</td>\n      <td>@hotmail.com</td>\n      <td>beatriz@hotmail.com</td>\n    </tr>\n    <tr>\n      <th>111</th>\n      <td>CLEITON</td>\n      <td>360</td>\n      <td>@gmail.com</td>\n      <td>cleiton@gmail.com</td>\n    </tr>\n    <tr>\n      <th>131</th>\n      <td>ANGELICA</td>\n      <td>292</td>\n      <td>@hotmail.com</td>\n      <td>angelica@hotmail.com</td>\n    </tr>\n    <tr>\n      <th>161</th>\n      <td>DAMIAO</td>\n      <td>11</td>\n      <td>@gmail.com</td>\n      <td>damiao@gmail.com</td>\n    </tr>\n    <tr>\n      <th>86</th>\n      <td>MAURO</td>\n      <td>233</td>\n      <td>@gmail.com</td>\n      <td>mauro@gmail.com</td>\n    </tr>\n  </tbody>\n</table>\n</div>"
     },
     "metadata": {},
     "execution_count": 12
    }
   ],
   "source": [
    "nomes.sample(5)"
   ]
  },
  {
   "source": [
    "## Criando dataframe de cursos"
   ],
   "cell_type": "markdown",
   "metadata": {}
  },
  {
   "cell_type": "code",
   "execution_count": 13,
   "metadata": {},
   "outputs": [],
   "source": [
    "import html5lib"
   ]
  },
  {
   "cell_type": "code",
   "execution_count": 20,
   "metadata": {},
   "outputs": [],
   "source": [
    "url_cursos = 'http://tabela-cursos.herokuapp.com/index.html'\n",
    "cursos = pd.read_html(url_cursos)[0]"
   ]
  },
  {
   "cell_type": "code",
   "execution_count": 21,
   "metadata": {},
   "outputs": [
    {
     "output_type": "execute_result",
     "data": {
      "text/plain": [
       "                          Nome do curso\n",
       "0                 Lógica de programação\n",
       "1                         Java para Web\n",
       "2                           C# para Web\n",
       "3                         Ruby on Rails\n",
       "4                      Cursos de Python\n",
       "5                         PHP com MySql\n",
       "6                         .NET para web\n",
       "7            Novas integrações com Java\n",
       "8                          TDD com Java\n",
       "9                   Código limpo com C#\n",
       "10  Preparatório para certificação Java\n",
       "11                      Hardware básico\n",
       "12                Persistência com .NET\n",
       "13                  Desenvolvendo jogos\n",
       "14                     Análise de dados\n",
       "15                   Estatística básica\n",
       "16                  Internet das coisas\n",
       "17                Programação funcional\n",
       "18                Boas práticas em Java\n",
       "19          Orientação objetos com Java"
      ],
      "text/html": "<div>\n<style scoped>\n    .dataframe tbody tr th:only-of-type {\n        vertical-align: middle;\n    }\n\n    .dataframe tbody tr th {\n        vertical-align: top;\n    }\n\n    .dataframe thead th {\n        text-align: right;\n    }\n</style>\n<table border=\"1\" class=\"dataframe\">\n  <thead>\n    <tr style=\"text-align: right;\">\n      <th></th>\n      <th>Nome do curso</th>\n    </tr>\n  </thead>\n  <tbody>\n    <tr>\n      <th>0</th>\n      <td>Lógica de programação</td>\n    </tr>\n    <tr>\n      <th>1</th>\n      <td>Java para Web</td>\n    </tr>\n    <tr>\n      <th>2</th>\n      <td>C# para Web</td>\n    </tr>\n    <tr>\n      <th>3</th>\n      <td>Ruby on Rails</td>\n    </tr>\n    <tr>\n      <th>4</th>\n      <td>Cursos de Python</td>\n    </tr>\n    <tr>\n      <th>5</th>\n      <td>PHP com MySql</td>\n    </tr>\n    <tr>\n      <th>6</th>\n      <td>.NET para web</td>\n    </tr>\n    <tr>\n      <th>7</th>\n      <td>Novas integrações com Java</td>\n    </tr>\n    <tr>\n      <th>8</th>\n      <td>TDD com Java</td>\n    </tr>\n    <tr>\n      <th>9</th>\n      <td>Código limpo com C#</td>\n    </tr>\n    <tr>\n      <th>10</th>\n      <td>Preparatório para certificação Java</td>\n    </tr>\n    <tr>\n      <th>11</th>\n      <td>Hardware básico</td>\n    </tr>\n    <tr>\n      <th>12</th>\n      <td>Persistência com .NET</td>\n    </tr>\n    <tr>\n      <th>13</th>\n      <td>Desenvolvendo jogos</td>\n    </tr>\n    <tr>\n      <th>14</th>\n      <td>Análise de dados</td>\n    </tr>\n    <tr>\n      <th>15</th>\n      <td>Estatística básica</td>\n    </tr>\n    <tr>\n      <th>16</th>\n      <td>Internet das coisas</td>\n    </tr>\n    <tr>\n      <th>17</th>\n      <td>Programação funcional</td>\n    </tr>\n    <tr>\n      <th>18</th>\n      <td>Boas práticas em Java</td>\n    </tr>\n    <tr>\n      <th>19</th>\n      <td>Orientação objetos com Java</td>\n    </tr>\n  </tbody>\n</table>\n</div>"
     },
     "metadata": {},
     "execution_count": 21
    }
   ],
   "source": [
    "cursos"
   ]
  },
  {
   "source": [
    "### Alterações básicas no dataframe"
   ],
   "cell_type": "markdown",
   "metadata": {}
  },
  {
   "cell_type": "code",
   "execution_count": 28,
   "metadata": {},
   "outputs": [],
   "source": [
    "cursos.rename(columns={'Nome do curso': 'nome_do_curso'},inplace=True)"
   ]
  },
  {
   "cell_type": "code",
   "execution_count": 29,
   "metadata": {},
   "outputs": [],
   "source": [
    "cursos['id'] = cursos.index + 1"
   ]
  },
  {
   "cell_type": "code",
   "execution_count": 30,
   "metadata": {},
   "outputs": [],
   "source": [
    "cursos.set_index('id',inplace= True)"
   ]
  },
  {
   "cell_type": "code",
   "execution_count": 33,
   "metadata": {},
   "outputs": [
    {
     "output_type": "execute_result",
     "data": {
      "text/plain": [
       "                          nome_do_curso\n",
       "id                                     \n",
       "1                 Lógica de programação\n",
       "2                         Java para Web\n",
       "3                           C# para Web\n",
       "4                         Ruby on Rails\n",
       "5                      Cursos de Python\n",
       "6                         PHP com MySql\n",
       "7                         .NET para web\n",
       "8            Novas integrações com Java\n",
       "9                          TDD com Java\n",
       "10                  Código limpo com C#\n",
       "11  Preparatório para certificação Java\n",
       "12                      Hardware básico\n",
       "13                Persistência com .NET\n",
       "14                  Desenvolvendo jogos\n",
       "15                     Análise de dados\n",
       "16                   Estatística básica\n",
       "17                  Internet das coisas\n",
       "18                Programação funcional\n",
       "19                Boas práticas em Java\n",
       "20          Orientação objetos com Java"
      ],
      "text/html": "<div>\n<style scoped>\n    .dataframe tbody tr th:only-of-type {\n        vertical-align: middle;\n    }\n\n    .dataframe tbody tr th {\n        vertical-align: top;\n    }\n\n    .dataframe thead th {\n        text-align: right;\n    }\n</style>\n<table border=\"1\" class=\"dataframe\">\n  <thead>\n    <tr style=\"text-align: right;\">\n      <th></th>\n      <th>nome_do_curso</th>\n    </tr>\n    <tr>\n      <th>id</th>\n      <th></th>\n    </tr>\n  </thead>\n  <tbody>\n    <tr>\n      <th>1</th>\n      <td>Lógica de programação</td>\n    </tr>\n    <tr>\n      <th>2</th>\n      <td>Java para Web</td>\n    </tr>\n    <tr>\n      <th>3</th>\n      <td>C# para Web</td>\n    </tr>\n    <tr>\n      <th>4</th>\n      <td>Ruby on Rails</td>\n    </tr>\n    <tr>\n      <th>5</th>\n      <td>Cursos de Python</td>\n    </tr>\n    <tr>\n      <th>6</th>\n      <td>PHP com MySql</td>\n    </tr>\n    <tr>\n      <th>7</th>\n      <td>.NET para web</td>\n    </tr>\n    <tr>\n      <th>8</th>\n      <td>Novas integrações com Java</td>\n    </tr>\n    <tr>\n      <th>9</th>\n      <td>TDD com Java</td>\n    </tr>\n    <tr>\n      <th>10</th>\n      <td>Código limpo com C#</td>\n    </tr>\n    <tr>\n      <th>11</th>\n      <td>Preparatório para certificação Java</td>\n    </tr>\n    <tr>\n      <th>12</th>\n      <td>Hardware básico</td>\n    </tr>\n    <tr>\n      <th>13</th>\n      <td>Persistência com .NET</td>\n    </tr>\n    <tr>\n      <th>14</th>\n      <td>Desenvolvendo jogos</td>\n    </tr>\n    <tr>\n      <th>15</th>\n      <td>Análise de dados</td>\n    </tr>\n    <tr>\n      <th>16</th>\n      <td>Estatística básica</td>\n    </tr>\n    <tr>\n      <th>17</th>\n      <td>Internet das coisas</td>\n    </tr>\n    <tr>\n      <th>18</th>\n      <td>Programação funcional</td>\n    </tr>\n    <tr>\n      <th>19</th>\n      <td>Boas práticas em Java</td>\n    </tr>\n    <tr>\n      <th>20</th>\n      <td>Orientação objetos com Java</td>\n    </tr>\n  </tbody>\n</table>\n</div>"
     },
     "metadata": {},
     "execution_count": 33
    }
   ],
   "source": [
    "cursos"
   ]
  },
  {
   "source": [
    "## Atribuindo quantidade de matriculas aos alunos e Visualizando Distribuição"
   ],
   "cell_type": "markdown",
   "metadata": {}
  },
  {
   "cell_type": "code",
   "execution_count": 38,
   "metadata": {},
   "outputs": [
    {
     "output_type": "execute_result",
     "data": {
      "text/plain": [
       "         nome  id_aluno       dominio                 email  matriculas\n",
       "72   CAROLINE       369  @hotmail.com  caroline@hotmail.com           1\n",
       "9      MARCOS       192  @hotmail.com    marcos@hotmail.com           1\n",
       "35      CARLA       167    @gmail.com       carla@gmail.com           1\n",
       "16    EDUARDO       232  @hotmail.com   eduardo@hotmail.com           1\n",
       "198   ISADORA       126    @gmail.com     isadora@gmail.com           1"
      ],
      "text/html": "<div>\n<style scoped>\n    .dataframe tbody tr th:only-of-type {\n        vertical-align: middle;\n    }\n\n    .dataframe tbody tr th {\n        vertical-align: top;\n    }\n\n    .dataframe thead th {\n        text-align: right;\n    }\n</style>\n<table border=\"1\" class=\"dataframe\">\n  <thead>\n    <tr style=\"text-align: right;\">\n      <th></th>\n      <th>nome</th>\n      <th>id_aluno</th>\n      <th>dominio</th>\n      <th>email</th>\n      <th>matriculas</th>\n    </tr>\n  </thead>\n  <tbody>\n    <tr>\n      <th>72</th>\n      <td>CAROLINE</td>\n      <td>369</td>\n      <td>@hotmail.com</td>\n      <td>caroline@hotmail.com</td>\n      <td>1</td>\n    </tr>\n    <tr>\n      <th>9</th>\n      <td>MARCOS</td>\n      <td>192</td>\n      <td>@hotmail.com</td>\n      <td>marcos@hotmail.com</td>\n      <td>1</td>\n    </tr>\n    <tr>\n      <th>35</th>\n      <td>CARLA</td>\n      <td>167</td>\n      <td>@gmail.com</td>\n      <td>carla@gmail.com</td>\n      <td>1</td>\n    </tr>\n    <tr>\n      <th>16</th>\n      <td>EDUARDO</td>\n      <td>232</td>\n      <td>@hotmail.com</td>\n      <td>eduardo@hotmail.com</td>\n      <td>1</td>\n    </tr>\n    <tr>\n      <th>198</th>\n      <td>ISADORA</td>\n      <td>126</td>\n      <td>@gmail.com</td>\n      <td>isadora@gmail.com</td>\n      <td>1</td>\n    </tr>\n  </tbody>\n</table>\n</div>"
     },
     "metadata": {},
     "execution_count": 38
    }
   ],
   "source": [
    "nomes['matriculas'] = np.ceil(np.random.exponential(size=total_alunos)*1.5).astype(int)\n",
    "nomes.sample(5)"
   ]
  },
  {
   "cell_type": "code",
   "execution_count": 39,
   "metadata": {},
   "outputs": [
    {
     "output_type": "execute_result",
     "data": {
      "text/plain": [
       "count    400.000000\n",
       "mean       2.082500\n",
       "std        1.483643\n",
       "min        1.000000\n",
       "25%        1.000000\n",
       "50%        2.000000\n",
       "75%        3.000000\n",
       "max       12.000000\n",
       "Name: matriculas, dtype: float64"
      ]
     },
     "metadata": {},
     "execution_count": 39
    }
   ],
   "source": [
    "nomes.matriculas.describe()"
   ]
  },
  {
   "cell_type": "code",
   "execution_count": 42,
   "metadata": {},
   "outputs": [
    {
     "output_type": "execute_result",
     "data": {
      "text/plain": [
       "1     189\n",
       "2     106\n",
       "3      48\n",
       "4      26\n",
       "5      15\n",
       "6       9\n",
       "7       5\n",
       "8       1\n",
       "12      1\n",
       "Name: matriculas, dtype: int64"
      ]
     },
     "metadata": {},
     "execution_count": 42
    }
   ],
   "source": [
    "nomes.matriculas.value_counts()"
   ]
  },
  {
   "cell_type": "code",
   "execution_count": 40,
   "metadata": {},
   "outputs": [],
   "source": [
    "import seaborn as sns"
   ]
  },
  {
   "cell_type": "code",
   "execution_count": 41,
   "metadata": {},
   "outputs": [
    {
     "output_type": "execute_result",
     "data": {
      "text/plain": [
       "<seaborn.axisgrid.FacetGrid at 0x7f70a78069d0>"
      ]
     },
     "metadata": {},
     "execution_count": 41
    },
    {
     "output_type": "display_data",
     "data": {
      "text/plain": "<Figure size 360x360 with 1 Axes>",
      "image/svg+xml": "<?xml version=\"1.0\" encoding=\"utf-8\" standalone=\"no\"?>\n<!DOCTYPE svg PUBLIC \"-//W3C//DTD SVG 1.1//EN\"\n  \"http://www.w3.org/Graphics/SVG/1.1/DTD/svg11.dtd\">\n<svg height=\"352.15625pt\" version=\"1.1\" viewBox=\"0 0 352.440625 352.15625\" width=\"352.440625pt\" xmlns=\"http://www.w3.org/2000/svg\" xmlns:xlink=\"http://www.w3.org/1999/xlink\">\n <metadata>\n  <rdf:RDF xmlns:cc=\"http://creativecommons.org/ns#\" xmlns:dc=\"http://purl.org/dc/elements/1.1/\" xmlns:rdf=\"http://www.w3.org/1999/02/22-rdf-syntax-ns#\">\n   <cc:Work>\n    <dc:type rdf:resource=\"http://purl.org/dc/dcmitype/StillImage\"/>\n    <dc:date>2021-04-12T17:42:09.800045</dc:date>\n    <dc:format>image/svg+xml</dc:format>\n    <dc:creator>\n     <cc:Agent>\n      <dc:title>Matplotlib v3.4.1, https://matplotlib.org/</dc:title>\n     </cc:Agent>\n    </dc:creator>\n   </cc:Work>\n  </rdf:RDF>\n </metadata>\n <defs>\n  <style type=\"text/css\">*{stroke-linecap:butt;stroke-linejoin:round;}</style>\n </defs>\n <g id=\"figure_1\">\n  <g id=\"patch_1\">\n   <path d=\"M 0 352.15625 \nL 352.440625 352.15625 \nL 352.440625 0 \nL 0 0 \nz\n\" style=\"fill:none;\"/>\n  </g>\n  <g id=\"axes_1\">\n   <g id=\"patch_2\">\n    <path d=\"M 46.965625 314.6 \nL 345.240625 314.6 \nL 345.240625 7.2 \nL 46.965625 7.2 \nz\n\" style=\"fill:#ffffff;\"/>\n   </g>\n   <g id=\"patch_3\">\n    <path clip-path=\"url(#p4308ae6695)\" d=\"M 60.52358 314.6 \nL 73.435917 314.6 \nL 73.435917 21.838095 \nL 60.52358 21.838095 \nz\n\" style=\"fill:#1f77b4;fill-opacity:0.75;stroke:#000000;stroke-linejoin:miter;\"/>\n   </g>\n   <g id=\"patch_4\">\n    <path clip-path=\"url(#p4308ae6695)\" d=\"M 73.435917 314.6 \nL 86.348255 314.6 \nL 86.348255 150.405493 \nL 73.435917 150.405493 \nz\n\" style=\"fill:#1f77b4;fill-opacity:0.75;stroke:#000000;stroke-linejoin:miter;\"/>\n   </g>\n   <g id=\"patch_5\">\n    <path clip-path=\"url(#p4308ae6695)\" d=\"M 86.348255 314.6 \nL 99.260593 314.6 \nL 99.260593 314.6 \nL 86.348255 314.6 \nz\n\" style=\"fill:#1f77b4;fill-opacity:0.75;stroke:#000000;stroke-linejoin:miter;\"/>\n   </g>\n   <g id=\"patch_6\">\n    <path clip-path=\"url(#p4308ae6695)\" d=\"M 99.260593 314.6 \nL 112.17293 314.6 \nL 112.17293 240.24777 \nL 99.260593 240.24777 \nz\n\" style=\"fill:#1f77b4;fill-opacity:0.75;stroke:#000000;stroke-linejoin:miter;\"/>\n   </g>\n   <g id=\"patch_7\">\n    <path clip-path=\"url(#p4308ae6695)\" d=\"M 112.17293 314.6 \nL 125.085268 314.6 \nL 125.085268 314.6 \nL 112.17293 314.6 \nz\n\" style=\"fill:#1f77b4;fill-opacity:0.75;stroke:#000000;stroke-linejoin:miter;\"/>\n   </g>\n   <g id=\"patch_8\">\n    <path clip-path=\"url(#p4308ae6695)\" d=\"M 125.085268 314.6 \nL 137.997606 314.6 \nL 137.997606 274.325876 \nL 125.085268 274.325876 \nz\n\" style=\"fill:#1f77b4;fill-opacity:0.75;stroke:#000000;stroke-linejoin:miter;\"/>\n   </g>\n   <g id=\"patch_9\">\n    <path clip-path=\"url(#p4308ae6695)\" d=\"M 137.997606 314.6 \nL 150.909943 314.6 \nL 150.909943 314.6 \nL 137.997606 314.6 \nz\n\" style=\"fill:#1f77b4;fill-opacity:0.75;stroke:#000000;stroke-linejoin:miter;\"/>\n   </g>\n   <g id=\"patch_10\">\n    <path clip-path=\"url(#p4308ae6695)\" d=\"M 150.909943 314.6 \nL 163.822281 314.6 \nL 163.822281 291.364928 \nL 150.909943 291.364928 \nz\n\" style=\"fill:#1f77b4;fill-opacity:0.75;stroke:#000000;stroke-linejoin:miter;\"/>\n   </g>\n   <g id=\"patch_11\">\n    <path clip-path=\"url(#p4308ae6695)\" d=\"M 163.822281 314.6 \nL 176.734619 314.6 \nL 176.734619 314.6 \nL 163.822281 314.6 \nz\n\" style=\"fill:#1f77b4;fill-opacity:0.75;stroke:#000000;stroke-linejoin:miter;\"/>\n   </g>\n   <g id=\"patch_12\">\n    <path clip-path=\"url(#p4308ae6695)\" d=\"M 176.734619 314.6 \nL 189.646956 314.6 \nL 189.646956 300.658957 \nL 176.734619 300.658957 \nz\n\" style=\"fill:#1f77b4;fill-opacity:0.75;stroke:#000000;stroke-linejoin:miter;\"/>\n   </g>\n   <g id=\"patch_13\">\n    <path clip-path=\"url(#p4308ae6695)\" d=\"M 189.646956 314.6 \nL 202.559294 314.6 \nL 202.559294 314.6 \nL 189.646956 314.6 \nz\n\" style=\"fill:#1f77b4;fill-opacity:0.75;stroke:#000000;stroke-linejoin:miter;\"/>\n   </g>\n   <g id=\"patch_14\">\n    <path clip-path=\"url(#p4308ae6695)\" d=\"M 202.559294 314.6 \nL 215.471631 314.6 \nL 215.471631 306.854976 \nL 202.559294 306.854976 \nz\n\" style=\"fill:#1f77b4;fill-opacity:0.75;stroke:#000000;stroke-linejoin:miter;\"/>\n   </g>\n   <g id=\"patch_15\">\n    <path clip-path=\"url(#p4308ae6695)\" d=\"M 215.471631 314.6 \nL 228.383969 314.6 \nL 228.383969 314.6 \nL 215.471631 314.6 \nz\n\" style=\"fill:#1f77b4;fill-opacity:0.75;stroke:#000000;stroke-linejoin:miter;\"/>\n   </g>\n   <g id=\"patch_16\">\n    <path clip-path=\"url(#p4308ae6695)\" d=\"M 228.383969 314.6 \nL 241.296307 314.6 \nL 241.296307 313.050995 \nL 228.383969 313.050995 \nz\n\" style=\"fill:#1f77b4;fill-opacity:0.75;stroke:#000000;stroke-linejoin:miter;\"/>\n   </g>\n   <g id=\"patch_17\">\n    <path clip-path=\"url(#p4308ae6695)\" d=\"M 241.296307 314.6 \nL 254.208644 314.6 \nL 254.208644 314.6 \nL 241.296307 314.6 \nz\n\" style=\"fill:#1f77b4;fill-opacity:0.75;stroke:#000000;stroke-linejoin:miter;\"/>\n   </g>\n   <g id=\"patch_18\">\n    <path clip-path=\"url(#p4308ae6695)\" d=\"M 254.208644 314.6 \nL 267.120982 314.6 \nL 267.120982 314.6 \nL 254.208644 314.6 \nz\n\" style=\"fill:#1f77b4;fill-opacity:0.75;stroke:#000000;stroke-linejoin:miter;\"/>\n   </g>\n   <g id=\"patch_19\">\n    <path clip-path=\"url(#p4308ae6695)\" d=\"M 267.120982 314.6 \nL 280.03332 314.6 \nL 280.03332 314.6 \nL 267.120982 314.6 \nz\n\" style=\"fill:#1f77b4;fill-opacity:0.75;stroke:#000000;stroke-linejoin:miter;\"/>\n   </g>\n   <g id=\"patch_20\">\n    <path clip-path=\"url(#p4308ae6695)\" d=\"M 280.03332 314.6 \nL 292.945657 314.6 \nL 292.945657 314.6 \nL 280.03332 314.6 \nz\n\" style=\"fill:#1f77b4;fill-opacity:0.75;stroke:#000000;stroke-linejoin:miter;\"/>\n   </g>\n   <g id=\"patch_21\">\n    <path clip-path=\"url(#p4308ae6695)\" d=\"M 292.945657 314.6 \nL 305.857995 314.6 \nL 305.857995 314.6 \nL 292.945657 314.6 \nz\n\" style=\"fill:#1f77b4;fill-opacity:0.75;stroke:#000000;stroke-linejoin:miter;\"/>\n   </g>\n   <g id=\"patch_22\">\n    <path clip-path=\"url(#p4308ae6695)\" d=\"M 305.857995 314.6 \nL 318.770333 314.6 \nL 318.770333 314.6 \nL 305.857995 314.6 \nz\n\" style=\"fill:#1f77b4;fill-opacity:0.75;stroke:#000000;stroke-linejoin:miter;\"/>\n   </g>\n   <g id=\"patch_23\">\n    <path clip-path=\"url(#p4308ae6695)\" d=\"M 318.770333 314.6 \nL 331.68267 314.6 \nL 331.68267 313.050995 \nL 318.770333 313.050995 \nz\n\" style=\"fill:#1f77b4;fill-opacity:0.75;stroke:#000000;stroke-linejoin:miter;\"/>\n   </g>\n   <g id=\"matplotlib.axis_1\">\n    <g id=\"xtick_1\">\n     <g id=\"line2d_1\">\n      <defs>\n       <path d=\"M 0 0 \nL 0 3.5 \n\" id=\"m89a7d93418\" style=\"stroke:#000000;stroke-width:0.8;\"/>\n      </defs>\n      <g>\n       <use style=\"stroke:#000000;stroke-width:0.8;\" x=\"85.174406\" xlink:href=\"#m89a7d93418\" y=\"314.6\"/>\n      </g>\n     </g>\n     <g id=\"text_1\">\n      <!-- 2 -->\n      <g transform=\"translate(81.993156 329.198437)scale(0.1 -0.1)\">\n       <defs>\n        <path d=\"M 1228 531 \nL 3431 531 \nL 3431 0 \nL 469 0 \nL 469 531 \nQ 828 903 1448 1529 \nQ 2069 2156 2228 2338 \nQ 2531 2678 2651 2914 \nQ 2772 3150 2772 3378 \nQ 2772 3750 2511 3984 \nQ 2250 4219 1831 4219 \nQ 1534 4219 1204 4116 \nQ 875 4013 500 3803 \nL 500 4441 \nQ 881 4594 1212 4672 \nQ 1544 4750 1819 4750 \nQ 2544 4750 2975 4387 \nQ 3406 4025 3406 3419 \nQ 3406 3131 3298 2873 \nQ 3191 2616 2906 2266 \nQ 2828 2175 2409 1742 \nQ 1991 1309 1228 531 \nz\n\" id=\"DejaVuSans-32\" transform=\"scale(0.015625)\"/>\n       </defs>\n       <use xlink:href=\"#DejaVuSans-32\"/>\n      </g>\n     </g>\n    </g>\n    <g id=\"xtick_2\">\n     <g id=\"line2d_2\">\n      <g>\n       <use style=\"stroke:#000000;stroke-width:0.8;\" x=\"134.476059\" xlink:href=\"#m89a7d93418\" y=\"314.6\"/>\n      </g>\n     </g>\n     <g id=\"text_2\">\n      <!-- 4 -->\n      <g transform=\"translate(131.294809 329.198437)scale(0.1 -0.1)\">\n       <defs>\n        <path d=\"M 2419 4116 \nL 825 1625 \nL 2419 1625 \nL 2419 4116 \nz\nM 2253 4666 \nL 3047 4666 \nL 3047 1625 \nL 3713 1625 \nL 3713 1100 \nL 3047 1100 \nL 3047 0 \nL 2419 0 \nL 2419 1100 \nL 313 1100 \nL 313 1709 \nL 2253 4666 \nz\n\" id=\"DejaVuSans-34\" transform=\"scale(0.015625)\"/>\n       </defs>\n       <use xlink:href=\"#DejaVuSans-34\"/>\n      </g>\n     </g>\n    </g>\n    <g id=\"xtick_3\">\n     <g id=\"line2d_3\">\n      <g>\n       <use style=\"stroke:#000000;stroke-width:0.8;\" x=\"183.777712\" xlink:href=\"#m89a7d93418\" y=\"314.6\"/>\n      </g>\n     </g>\n     <g id=\"text_3\">\n      <!-- 6 -->\n      <g transform=\"translate(180.596462 329.198437)scale(0.1 -0.1)\">\n       <defs>\n        <path d=\"M 2113 2584 \nQ 1688 2584 1439 2293 \nQ 1191 2003 1191 1497 \nQ 1191 994 1439 701 \nQ 1688 409 2113 409 \nQ 2538 409 2786 701 \nQ 3034 994 3034 1497 \nQ 3034 2003 2786 2293 \nQ 2538 2584 2113 2584 \nz\nM 3366 4563 \nL 3366 3988 \nQ 3128 4100 2886 4159 \nQ 2644 4219 2406 4219 \nQ 1781 4219 1451 3797 \nQ 1122 3375 1075 2522 \nQ 1259 2794 1537 2939 \nQ 1816 3084 2150 3084 \nQ 2853 3084 3261 2657 \nQ 3669 2231 3669 1497 \nQ 3669 778 3244 343 \nQ 2819 -91 2113 -91 \nQ 1303 -91 875 529 \nQ 447 1150 447 2328 \nQ 447 3434 972 4092 \nQ 1497 4750 2381 4750 \nQ 2619 4750 2861 4703 \nQ 3103 4656 3366 4563 \nz\n\" id=\"DejaVuSans-36\" transform=\"scale(0.015625)\"/>\n       </defs>\n       <use xlink:href=\"#DejaVuSans-36\"/>\n      </g>\n     </g>\n    </g>\n    <g id=\"xtick_4\">\n     <g id=\"line2d_4\">\n      <g>\n       <use style=\"stroke:#000000;stroke-width:0.8;\" x=\"233.079365\" xlink:href=\"#m89a7d93418\" y=\"314.6\"/>\n      </g>\n     </g>\n     <g id=\"text_4\">\n      <!-- 8 -->\n      <g transform=\"translate(229.898115 329.198437)scale(0.1 -0.1)\">\n       <defs>\n        <path d=\"M 2034 2216 \nQ 1584 2216 1326 1975 \nQ 1069 1734 1069 1313 \nQ 1069 891 1326 650 \nQ 1584 409 2034 409 \nQ 2484 409 2743 651 \nQ 3003 894 3003 1313 \nQ 3003 1734 2745 1975 \nQ 2488 2216 2034 2216 \nz\nM 1403 2484 \nQ 997 2584 770 2862 \nQ 544 3141 544 3541 \nQ 544 4100 942 4425 \nQ 1341 4750 2034 4750 \nQ 2731 4750 3128 4425 \nQ 3525 4100 3525 3541 \nQ 3525 3141 3298 2862 \nQ 3072 2584 2669 2484 \nQ 3125 2378 3379 2068 \nQ 3634 1759 3634 1313 \nQ 3634 634 3220 271 \nQ 2806 -91 2034 -91 \nQ 1263 -91 848 271 \nQ 434 634 434 1313 \nQ 434 1759 690 2068 \nQ 947 2378 1403 2484 \nz\nM 1172 3481 \nQ 1172 3119 1398 2916 \nQ 1625 2713 2034 2713 \nQ 2441 2713 2670 2916 \nQ 2900 3119 2900 3481 \nQ 2900 3844 2670 4047 \nQ 2441 4250 2034 4250 \nQ 1625 4250 1398 4047 \nQ 1172 3844 1172 3481 \nz\n\" id=\"DejaVuSans-38\" transform=\"scale(0.015625)\"/>\n       </defs>\n       <use xlink:href=\"#DejaVuSans-38\"/>\n      </g>\n     </g>\n    </g>\n    <g id=\"xtick_5\">\n     <g id=\"line2d_5\">\n      <g>\n       <use style=\"stroke:#000000;stroke-width:0.8;\" x=\"282.381018\" xlink:href=\"#m89a7d93418\" y=\"314.6\"/>\n      </g>\n     </g>\n     <g id=\"text_5\">\n      <!-- 10 -->\n      <g transform=\"translate(276.018518 329.198437)scale(0.1 -0.1)\">\n       <defs>\n        <path d=\"M 794 531 \nL 1825 531 \nL 1825 4091 \nL 703 3866 \nL 703 4441 \nL 1819 4666 \nL 2450 4666 \nL 2450 531 \nL 3481 531 \nL 3481 0 \nL 794 0 \nL 794 531 \nz\n\" id=\"DejaVuSans-31\" transform=\"scale(0.015625)\"/>\n        <path d=\"M 2034 4250 \nQ 1547 4250 1301 3770 \nQ 1056 3291 1056 2328 \nQ 1056 1369 1301 889 \nQ 1547 409 2034 409 \nQ 2525 409 2770 889 \nQ 3016 1369 3016 2328 \nQ 3016 3291 2770 3770 \nQ 2525 4250 2034 4250 \nz\nM 2034 4750 \nQ 2819 4750 3233 4129 \nQ 3647 3509 3647 2328 \nQ 3647 1150 3233 529 \nQ 2819 -91 2034 -91 \nQ 1250 -91 836 529 \nQ 422 1150 422 2328 \nQ 422 3509 836 4129 \nQ 1250 4750 2034 4750 \nz\n\" id=\"DejaVuSans-30\" transform=\"scale(0.015625)\"/>\n       </defs>\n       <use xlink:href=\"#DejaVuSans-31\"/>\n       <use x=\"63.623047\" xlink:href=\"#DejaVuSans-30\"/>\n      </g>\n     </g>\n    </g>\n    <g id=\"xtick_6\">\n     <g id=\"line2d_6\">\n      <g>\n       <use style=\"stroke:#000000;stroke-width:0.8;\" x=\"331.68267\" xlink:href=\"#m89a7d93418\" y=\"314.6\"/>\n      </g>\n     </g>\n     <g id=\"text_6\">\n      <!-- 12 -->\n      <g transform=\"translate(325.32017 329.198437)scale(0.1 -0.1)\">\n       <use xlink:href=\"#DejaVuSans-31\"/>\n       <use x=\"63.623047\" xlink:href=\"#DejaVuSans-32\"/>\n      </g>\n     </g>\n    </g>\n    <g id=\"text_7\">\n     <!-- matriculas -->\n     <g transform=\"translate(169.788281 342.876562)scale(0.1 -0.1)\">\n      <defs>\n       <path d=\"M 3328 2828 \nQ 3544 3216 3844 3400 \nQ 4144 3584 4550 3584 \nQ 5097 3584 5394 3201 \nQ 5691 2819 5691 2113 \nL 5691 0 \nL 5113 0 \nL 5113 2094 \nQ 5113 2597 4934 2840 \nQ 4756 3084 4391 3084 \nQ 3944 3084 3684 2787 \nQ 3425 2491 3425 1978 \nL 3425 0 \nL 2847 0 \nL 2847 2094 \nQ 2847 2600 2669 2842 \nQ 2491 3084 2119 3084 \nQ 1678 3084 1418 2786 \nQ 1159 2488 1159 1978 \nL 1159 0 \nL 581 0 \nL 581 3500 \nL 1159 3500 \nL 1159 2956 \nQ 1356 3278 1631 3431 \nQ 1906 3584 2284 3584 \nQ 2666 3584 2933 3390 \nQ 3200 3197 3328 2828 \nz\n\" id=\"DejaVuSans-6d\" transform=\"scale(0.015625)\"/>\n       <path d=\"M 2194 1759 \nQ 1497 1759 1228 1600 \nQ 959 1441 959 1056 \nQ 959 750 1161 570 \nQ 1363 391 1709 391 \nQ 2188 391 2477 730 \nQ 2766 1069 2766 1631 \nL 2766 1759 \nL 2194 1759 \nz\nM 3341 1997 \nL 3341 0 \nL 2766 0 \nL 2766 531 \nQ 2569 213 2275 61 \nQ 1981 -91 1556 -91 \nQ 1019 -91 701 211 \nQ 384 513 384 1019 \nQ 384 1609 779 1909 \nQ 1175 2209 1959 2209 \nL 2766 2209 \nL 2766 2266 \nQ 2766 2663 2505 2880 \nQ 2244 3097 1772 3097 \nQ 1472 3097 1187 3025 \nQ 903 2953 641 2809 \nL 641 3341 \nQ 956 3463 1253 3523 \nQ 1550 3584 1831 3584 \nQ 2591 3584 2966 3190 \nQ 3341 2797 3341 1997 \nz\n\" id=\"DejaVuSans-61\" transform=\"scale(0.015625)\"/>\n       <path d=\"M 1172 4494 \nL 1172 3500 \nL 2356 3500 \nL 2356 3053 \nL 1172 3053 \nL 1172 1153 \nQ 1172 725 1289 603 \nQ 1406 481 1766 481 \nL 2356 481 \nL 2356 0 \nL 1766 0 \nQ 1100 0 847 248 \nQ 594 497 594 1153 \nL 594 3053 \nL 172 3053 \nL 172 3500 \nL 594 3500 \nL 594 4494 \nL 1172 4494 \nz\n\" id=\"DejaVuSans-74\" transform=\"scale(0.015625)\"/>\n       <path d=\"M 2631 2963 \nQ 2534 3019 2420 3045 \nQ 2306 3072 2169 3072 \nQ 1681 3072 1420 2755 \nQ 1159 2438 1159 1844 \nL 1159 0 \nL 581 0 \nL 581 3500 \nL 1159 3500 \nL 1159 2956 \nQ 1341 3275 1631 3429 \nQ 1922 3584 2338 3584 \nQ 2397 3584 2469 3576 \nQ 2541 3569 2628 3553 \nL 2631 2963 \nz\n\" id=\"DejaVuSans-72\" transform=\"scale(0.015625)\"/>\n       <path d=\"M 603 3500 \nL 1178 3500 \nL 1178 0 \nL 603 0 \nL 603 3500 \nz\nM 603 4863 \nL 1178 4863 \nL 1178 4134 \nL 603 4134 \nL 603 4863 \nz\n\" id=\"DejaVuSans-69\" transform=\"scale(0.015625)\"/>\n       <path d=\"M 3122 3366 \nL 3122 2828 \nQ 2878 2963 2633 3030 \nQ 2388 3097 2138 3097 \nQ 1578 3097 1268 2742 \nQ 959 2388 959 1747 \nQ 959 1106 1268 751 \nQ 1578 397 2138 397 \nQ 2388 397 2633 464 \nQ 2878 531 3122 666 \nL 3122 134 \nQ 2881 22 2623 -34 \nQ 2366 -91 2075 -91 \nQ 1284 -91 818 406 \nQ 353 903 353 1747 \nQ 353 2603 823 3093 \nQ 1294 3584 2113 3584 \nQ 2378 3584 2631 3529 \nQ 2884 3475 3122 3366 \nz\n\" id=\"DejaVuSans-63\" transform=\"scale(0.015625)\"/>\n       <path d=\"M 544 1381 \nL 544 3500 \nL 1119 3500 \nL 1119 1403 \nQ 1119 906 1312 657 \nQ 1506 409 1894 409 \nQ 2359 409 2629 706 \nQ 2900 1003 2900 1516 \nL 2900 3500 \nL 3475 3500 \nL 3475 0 \nL 2900 0 \nL 2900 538 \nQ 2691 219 2414 64 \nQ 2138 -91 1772 -91 \nQ 1169 -91 856 284 \nQ 544 659 544 1381 \nz\nM 1991 3584 \nL 1991 3584 \nz\n\" id=\"DejaVuSans-75\" transform=\"scale(0.015625)\"/>\n       <path d=\"M 603 4863 \nL 1178 4863 \nL 1178 0 \nL 603 0 \nL 603 4863 \nz\n\" id=\"DejaVuSans-6c\" transform=\"scale(0.015625)\"/>\n       <path d=\"M 2834 3397 \nL 2834 2853 \nQ 2591 2978 2328 3040 \nQ 2066 3103 1784 3103 \nQ 1356 3103 1142 2972 \nQ 928 2841 928 2578 \nQ 928 2378 1081 2264 \nQ 1234 2150 1697 2047 \nL 1894 2003 \nQ 2506 1872 2764 1633 \nQ 3022 1394 3022 966 \nQ 3022 478 2636 193 \nQ 2250 -91 1575 -91 \nQ 1294 -91 989 -36 \nQ 684 19 347 128 \nL 347 722 \nQ 666 556 975 473 \nQ 1284 391 1588 391 \nQ 1994 391 2212 530 \nQ 2431 669 2431 922 \nQ 2431 1156 2273 1281 \nQ 2116 1406 1581 1522 \nL 1381 1569 \nQ 847 1681 609 1914 \nQ 372 2147 372 2553 \nQ 372 3047 722 3315 \nQ 1072 3584 1716 3584 \nQ 2034 3584 2315 3537 \nQ 2597 3491 2834 3397 \nz\n\" id=\"DejaVuSans-73\" transform=\"scale(0.015625)\"/>\n      </defs>\n      <use xlink:href=\"#DejaVuSans-6d\"/>\n      <use x=\"97.412109\" xlink:href=\"#DejaVuSans-61\"/>\n      <use x=\"158.691406\" xlink:href=\"#DejaVuSans-74\"/>\n      <use x=\"197.900391\" xlink:href=\"#DejaVuSans-72\"/>\n      <use x=\"239.013672\" xlink:href=\"#DejaVuSans-69\"/>\n      <use x=\"266.796875\" xlink:href=\"#DejaVuSans-63\"/>\n      <use x=\"321.777344\" xlink:href=\"#DejaVuSans-75\"/>\n      <use x=\"385.15625\" xlink:href=\"#DejaVuSans-6c\"/>\n      <use x=\"412.939453\" xlink:href=\"#DejaVuSans-61\"/>\n      <use x=\"474.21875\" xlink:href=\"#DejaVuSans-73\"/>\n     </g>\n    </g>\n   </g>\n   <g id=\"matplotlib.axis_2\">\n    <g id=\"ytick_1\">\n     <g id=\"line2d_7\">\n      <defs>\n       <path d=\"M 0 0 \nL -3.5 0 \n\" id=\"m360a6d5b3b\" style=\"stroke:#000000;stroke-width:0.8;\"/>\n      </defs>\n      <g>\n       <use style=\"stroke:#000000;stroke-width:0.8;\" x=\"46.965625\" xlink:href=\"#m360a6d5b3b\" y=\"314.6\"/>\n      </g>\n     </g>\n     <g id=\"text_8\">\n      <!-- 0 -->\n      <g transform=\"translate(33.603125 318.399219)scale(0.1 -0.1)\">\n       <use xlink:href=\"#DejaVuSans-30\"/>\n      </g>\n     </g>\n    </g>\n    <g id=\"ytick_2\">\n     <g id=\"line2d_8\">\n      <g>\n       <use style=\"stroke:#000000;stroke-width:0.8;\" x=\"46.965625\" xlink:href=\"#m360a6d5b3b\" y=\"275.87488\"/>\n      </g>\n     </g>\n     <g id=\"text_9\">\n      <!-- 25 -->\n      <g transform=\"translate(27.240625 279.674099)scale(0.1 -0.1)\">\n       <defs>\n        <path d=\"M 691 4666 \nL 3169 4666 \nL 3169 4134 \nL 1269 4134 \nL 1269 2991 \nQ 1406 3038 1543 3061 \nQ 1681 3084 1819 3084 \nQ 2600 3084 3056 2656 \nQ 3513 2228 3513 1497 \nQ 3513 744 3044 326 \nQ 2575 -91 1722 -91 \nQ 1428 -91 1123 -41 \nQ 819 9 494 109 \nL 494 744 \nQ 775 591 1075 516 \nQ 1375 441 1709 441 \nQ 2250 441 2565 725 \nQ 2881 1009 2881 1497 \nQ 2881 1984 2565 2268 \nQ 2250 2553 1709 2553 \nQ 1456 2553 1204 2497 \nQ 953 2441 691 2322 \nL 691 4666 \nz\n\" id=\"DejaVuSans-35\" transform=\"scale(0.015625)\"/>\n       </defs>\n       <use xlink:href=\"#DejaVuSans-32\"/>\n       <use x=\"63.623047\" xlink:href=\"#DejaVuSans-35\"/>\n      </g>\n     </g>\n    </g>\n    <g id=\"ytick_3\">\n     <g id=\"line2d_9\">\n      <g>\n       <use style=\"stroke:#000000;stroke-width:0.8;\" x=\"46.965625\" xlink:href=\"#m360a6d5b3b\" y=\"237.149761\"/>\n      </g>\n     </g>\n     <g id=\"text_10\">\n      <!-- 50 -->\n      <g transform=\"translate(27.240625 240.948979)scale(0.1 -0.1)\">\n       <use xlink:href=\"#DejaVuSans-35\"/>\n       <use x=\"63.623047\" xlink:href=\"#DejaVuSans-30\"/>\n      </g>\n     </g>\n    </g>\n    <g id=\"ytick_4\">\n     <g id=\"line2d_10\">\n      <g>\n       <use style=\"stroke:#000000;stroke-width:0.8;\" x=\"46.965625\" xlink:href=\"#m360a6d5b3b\" y=\"198.424641\"/>\n      </g>\n     </g>\n     <g id=\"text_11\">\n      <!-- 75 -->\n      <g transform=\"translate(27.240625 202.22386)scale(0.1 -0.1)\">\n       <defs>\n        <path d=\"M 525 4666 \nL 3525 4666 \nL 3525 4397 \nL 1831 0 \nL 1172 0 \nL 2766 4134 \nL 525 4134 \nL 525 4666 \nz\n\" id=\"DejaVuSans-37\" transform=\"scale(0.015625)\"/>\n       </defs>\n       <use xlink:href=\"#DejaVuSans-37\"/>\n       <use x=\"63.623047\" xlink:href=\"#DejaVuSans-35\"/>\n      </g>\n     </g>\n    </g>\n    <g id=\"ytick_5\">\n     <g id=\"line2d_11\">\n      <g>\n       <use style=\"stroke:#000000;stroke-width:0.8;\" x=\"46.965625\" xlink:href=\"#m360a6d5b3b\" y=\"159.699521\"/>\n      </g>\n     </g>\n     <g id=\"text_12\">\n      <!-- 100 -->\n      <g transform=\"translate(20.878125 163.49874)scale(0.1 -0.1)\">\n       <use xlink:href=\"#DejaVuSans-31\"/>\n       <use x=\"63.623047\" xlink:href=\"#DejaVuSans-30\"/>\n       <use x=\"127.246094\" xlink:href=\"#DejaVuSans-30\"/>\n      </g>\n     </g>\n    </g>\n    <g id=\"ytick_6\">\n     <g id=\"line2d_12\">\n      <g>\n       <use style=\"stroke:#000000;stroke-width:0.8;\" x=\"46.965625\" xlink:href=\"#m360a6d5b3b\" y=\"120.974402\"/>\n      </g>\n     </g>\n     <g id=\"text_13\">\n      <!-- 125 -->\n      <g transform=\"translate(20.878125 124.77362)scale(0.1 -0.1)\">\n       <use xlink:href=\"#DejaVuSans-31\"/>\n       <use x=\"63.623047\" xlink:href=\"#DejaVuSans-32\"/>\n       <use x=\"127.246094\" xlink:href=\"#DejaVuSans-35\"/>\n      </g>\n     </g>\n    </g>\n    <g id=\"ytick_7\">\n     <g id=\"line2d_13\">\n      <g>\n       <use style=\"stroke:#000000;stroke-width:0.8;\" x=\"46.965625\" xlink:href=\"#m360a6d5b3b\" y=\"82.249282\"/>\n      </g>\n     </g>\n     <g id=\"text_14\">\n      <!-- 150 -->\n      <g transform=\"translate(20.878125 86.048501)scale(0.1 -0.1)\">\n       <use xlink:href=\"#DejaVuSans-31\"/>\n       <use x=\"63.623047\" xlink:href=\"#DejaVuSans-35\"/>\n       <use x=\"127.246094\" xlink:href=\"#DejaVuSans-30\"/>\n      </g>\n     </g>\n    </g>\n    <g id=\"ytick_8\">\n     <g id=\"line2d_14\">\n      <g>\n       <use style=\"stroke:#000000;stroke-width:0.8;\" x=\"46.965625\" xlink:href=\"#m360a6d5b3b\" y=\"43.524162\"/>\n      </g>\n     </g>\n     <g id=\"text_15\">\n      <!-- 175 -->\n      <g transform=\"translate(20.878125 47.323381)scale(0.1 -0.1)\">\n       <use xlink:href=\"#DejaVuSans-31\"/>\n       <use x=\"63.623047\" xlink:href=\"#DejaVuSans-37\"/>\n       <use x=\"127.246094\" xlink:href=\"#DejaVuSans-35\"/>\n      </g>\n     </g>\n    </g>\n    <g id=\"text_16\">\n     <!-- Count -->\n     <g transform=\"translate(14.798438 175.748437)rotate(-90)scale(0.1 -0.1)\">\n      <defs>\n       <path d=\"M 4122 4306 \nL 4122 3641 \nQ 3803 3938 3442 4084 \nQ 3081 4231 2675 4231 \nQ 1875 4231 1450 3742 \nQ 1025 3253 1025 2328 \nQ 1025 1406 1450 917 \nQ 1875 428 2675 428 \nQ 3081 428 3442 575 \nQ 3803 722 4122 1019 \nL 4122 359 \nQ 3791 134 3420 21 \nQ 3050 -91 2638 -91 \nQ 1578 -91 968 557 \nQ 359 1206 359 2328 \nQ 359 3453 968 4101 \nQ 1578 4750 2638 4750 \nQ 3056 4750 3426 4639 \nQ 3797 4528 4122 4306 \nz\n\" id=\"DejaVuSans-43\" transform=\"scale(0.015625)\"/>\n       <path d=\"M 1959 3097 \nQ 1497 3097 1228 2736 \nQ 959 2375 959 1747 \nQ 959 1119 1226 758 \nQ 1494 397 1959 397 \nQ 2419 397 2687 759 \nQ 2956 1122 2956 1747 \nQ 2956 2369 2687 2733 \nQ 2419 3097 1959 3097 \nz\nM 1959 3584 \nQ 2709 3584 3137 3096 \nQ 3566 2609 3566 1747 \nQ 3566 888 3137 398 \nQ 2709 -91 1959 -91 \nQ 1206 -91 779 398 \nQ 353 888 353 1747 \nQ 353 2609 779 3096 \nQ 1206 3584 1959 3584 \nz\n\" id=\"DejaVuSans-6f\" transform=\"scale(0.015625)\"/>\n       <path d=\"M 3513 2113 \nL 3513 0 \nL 2938 0 \nL 2938 2094 \nQ 2938 2591 2744 2837 \nQ 2550 3084 2163 3084 \nQ 1697 3084 1428 2787 \nQ 1159 2491 1159 1978 \nL 1159 0 \nL 581 0 \nL 581 3500 \nL 1159 3500 \nL 1159 2956 \nQ 1366 3272 1645 3428 \nQ 1925 3584 2291 3584 \nQ 2894 3584 3203 3211 \nQ 3513 2838 3513 2113 \nz\n\" id=\"DejaVuSans-6e\" transform=\"scale(0.015625)\"/>\n      </defs>\n      <use xlink:href=\"#DejaVuSans-43\"/>\n      <use x=\"69.824219\" xlink:href=\"#DejaVuSans-6f\"/>\n      <use x=\"131.005859\" xlink:href=\"#DejaVuSans-75\"/>\n      <use x=\"194.384766\" xlink:href=\"#DejaVuSans-6e\"/>\n      <use x=\"257.763672\" xlink:href=\"#DejaVuSans-74\"/>\n     </g>\n    </g>\n   </g>\n   <g id=\"patch_24\">\n    <path d=\"M 46.965625 314.6 \nL 46.965625 7.2 \n\" style=\"fill:none;stroke:#000000;stroke-linecap:square;stroke-linejoin:miter;stroke-width:0.8;\"/>\n   </g>\n   <g id=\"patch_25\">\n    <path d=\"M 46.965625 314.6 \nL 345.240625 314.6 \n\" style=\"fill:none;stroke:#000000;stroke-linecap:square;stroke-linejoin:miter;stroke-width:0.8;\"/>\n   </g>\n  </g>\n </g>\n <defs>\n  <clipPath id=\"p4308ae6695\">\n   <rect height=\"307.4\" width=\"298.275\" x=\"46.965625\" y=\"7.2\"/>\n  </clipPath>\n </defs>\n</svg>\n",
      "image/png": "[encoded data removed]"
     },
     "metadata": {
      "needs_background": "light"
     }
    }
   ],
   "source": [
    "sns.displot(nomes.matriculas)"
   ]
  },
  {
   "source": [
    "## Criando a tabela de relação: Aluno -> Cursos"
   ],
   "cell_type": "markdown",
   "metadata": {}
  },
  {
   "cell_type": "code",
   "execution_count": 52,
   "metadata": {},
   "outputs": [],
   "source": [
    "todas_matriculas = []\n",
    "x = np.random.rand(cursos.shape[0])\n",
    "probabilidade = x / sum(x)"
   ]
  },
  {
   "cell_type": "code",
   "execution_count": 54,
   "metadata": {},
   "outputs": [],
   "source": [
    "for index, linha in nomes.iterrows():\n",
    "    id = linha.id_aluno\n",
    "    matriculas = linha.matriculas\n",
    "    for i in range(matriculas):\n",
    "        mat = [id, np.random.choice(cursos.index, p = probabilidade)]\n",
    "        todas_matriculas.append(mat)"
   ]
  },
  {
   "cell_type": "code",
   "execution_count": 58,
   "metadata": {},
   "outputs": [
    {
     "output_type": "execute_result",
     "data": {
      "text/plain": [
       "   id_aluno  id_curso\n",
       "0       234         1\n",
       "1        51        20\n",
       "2        41        15\n",
       "3        41         9\n",
       "4        41        12"
      ],
      "text/html": "<div>\n<style scoped>\n    .dataframe tbody tr th:only-of-type {\n        vertical-align: middle;\n    }\n\n    .dataframe tbody tr th {\n        vertical-align: top;\n    }\n\n    .dataframe thead th {\n        text-align: right;\n    }\n</style>\n<table border=\"1\" class=\"dataframe\">\n  <thead>\n    <tr style=\"text-align: right;\">\n      <th></th>\n      <th>id_aluno</th>\n      <th>id_curso</th>\n    </tr>\n  </thead>\n  <tbody>\n    <tr>\n      <th>0</th>\n      <td>234</td>\n      <td>1</td>\n    </tr>\n    <tr>\n      <th>1</th>\n      <td>51</td>\n      <td>20</td>\n    </tr>\n    <tr>\n      <th>2</th>\n      <td>41</td>\n      <td>15</td>\n    </tr>\n    <tr>\n      <th>3</th>\n      <td>41</td>\n      <td>9</td>\n    </tr>\n    <tr>\n      <th>4</th>\n      <td>41</td>\n      <td>12</td>\n    </tr>\n  </tbody>\n</table>\n</div>"
     },
     "metadata": {},
     "execution_count": 58
    }
   ],
   "source": [
    "matriculas = pd.DataFrame(todas_matriculas, columns=['id_aluno', 'id_curso'])\n",
    "matriculas.head(5)"
   ]
  },
  {
   "cell_type": "code",
   "execution_count": 68,
   "metadata": {},
   "outputs": [],
   "source": [
    "tabela  = matriculas.groupby('id_curso').count().join(cursos['nome_do_curso']).rename(columns={'id_aluno': 'quantidade_de_alunos'})"
   ]
  },
  {
   "cell_type": "code",
   "execution_count": 79,
   "metadata": {},
   "outputs": [
    {
     "output_type": "execute_result",
     "data": {
      "text/plain": [
       "          quantidade_de_alunos                        nome_do_curso\n",
       "id_curso                                                           \n",
       "1                           73                Lógica de programação\n",
       "2                           30                        Java para Web\n",
       "3                           54                          C# para Web\n",
       "4                           21                        Ruby on Rails\n",
       "5                           26                     Cursos de Python\n",
       "6                           52                        PHP com MySql\n",
       "7                           37                        .NET para web\n",
       "8                           61           Novas integrações com Java\n",
       "9                           69                         TDD com Java\n",
       "10                          35                  Código limpo com C#\n",
       "11                          49  Preparatório para certificação Java\n",
       "12                          45                      Hardware básico\n",
       "13                          50                Persistência com .NET\n",
       "14                          35                  Desenvolvendo jogos\n",
       "15                          65                     Análise de dados\n",
       "16                           4                   Estatística básica\n",
       "17                          10                  Internet das coisas\n",
       "18                           9                Programação funcional\n",
       "19                          42                Boas práticas em Java\n",
       "20                          66          Orientação objetos com Java"
      ],
      "text/html": "<div>\n<style scoped>\n    .dataframe tbody tr th:only-of-type {\n        vertical-align: middle;\n    }\n\n    .dataframe tbody tr th {\n        vertical-align: top;\n    }\n\n    .dataframe thead th {\n        text-align: right;\n    }\n</style>\n<table border=\"1\" class=\"dataframe\">\n  <thead>\n    <tr style=\"text-align: right;\">\n      <th></th>\n      <th>quantidade_de_alunos</th>\n      <th>nome_do_curso</th>\n    </tr>\n    <tr>\n      <th>id_curso</th>\n      <th></th>\n      <th></th>\n    </tr>\n  </thead>\n  <tbody>\n    <tr>\n      <th>1</th>\n      <td>73</td>\n      <td>Lógica de programação</td>\n    </tr>\n    <tr>\n      <th>2</th>\n      <td>30</td>\n      <td>Java para Web</td>\n    </tr>\n    <tr>\n      <th>3</th>\n      <td>54</td>\n      <td>C# para Web</td>\n    </tr>\n    <tr>\n      <th>4</th>\n      <td>21</td>\n      <td>Ruby on Rails</td>\n    </tr>\n    <tr>\n      <th>5</th>\n      <td>26</td>\n      <td>Cursos de Python</td>\n    </tr>\n    <tr>\n      <th>6</th>\n      <td>52</td>\n      <td>PHP com MySql</td>\n    </tr>\n    <tr>\n      <th>7</th>\n      <td>37</td>\n      <td>.NET para web</td>\n    </tr>\n    <tr>\n      <th>8</th>\n      <td>61</td>\n      <td>Novas integrações com Java</td>\n    </tr>\n    <tr>\n      <th>9</th>\n      <td>69</td>\n      <td>TDD com Java</td>\n    </tr>\n    <tr>\n      <th>10</th>\n      <td>35</td>\n      <td>Código limpo com C#</td>\n    </tr>\n    <tr>\n      <th>11</th>\n      <td>49</td>\n      <td>Preparatório para certificação Java</td>\n    </tr>\n    <tr>\n      <th>12</th>\n      <td>45</td>\n      <td>Hardware básico</td>\n    </tr>\n    <tr>\n      <th>13</th>\n      <td>50</td>\n      <td>Persistência com .NET</td>\n    </tr>\n    <tr>\n      <th>14</th>\n      <td>35</td>\n      <td>Desenvolvendo jogos</td>\n    </tr>\n    <tr>\n      <th>15</th>\n      <td>65</td>\n      <td>Análise de dados</td>\n    </tr>\n    <tr>\n      <th>16</th>\n      <td>4</td>\n      <td>Estatística básica</td>\n    </tr>\n    <tr>\n      <th>17</th>\n      <td>10</td>\n      <td>Internet das coisas</td>\n    </tr>\n    <tr>\n      <th>18</th>\n      <td>9</td>\n      <td>Programação funcional</td>\n    </tr>\n    <tr>\n      <th>19</th>\n      <td>42</td>\n      <td>Boas práticas em Java</td>\n    </tr>\n    <tr>\n      <th>20</th>\n      <td>66</td>\n      <td>Orientação objetos com Java</td>\n    </tr>\n  </tbody>\n</table>\n</div>"
     },
     "metadata": {},
     "execution_count": 79
    }
   ],
   "source": [
    "tabela.sort_index()"
   ]
  },
  {
   "source": [
    "## Saida de dados"
   ],
   "cell_type": "markdown",
   "metadata": {}
  },
  {
   "source": [
    "### Os 3 dataframes criados:"
   ],
   "cell_type": "markdown",
   "metadata": {}
  },
  {
   "cell_type": "code",
   "execution_count": 82,
   "metadata": {},
   "outputs": [
    {
     "output_type": "execute_result",
     "data": {
      "text/plain": [
       "          nome  id_aluno       dominio                  email  matriculas\n",
       "0         JOSE       234  @hotmail.com       jose@hotmail.com           1\n",
       "1         JOAO        51    @gmail.com         joao@gmail.com           1\n",
       "2      ANTONIO        41  @hotmail.com    antonio@hotmail.com           3\n",
       "3    FRANCISCO       323  @hotmail.com  francisco@hotmail.com           1\n",
       "4       CARLOS       143  @hotmail.com     carlos@hotmail.com           2\n",
       "..         ...       ...           ...                    ...         ...\n",
       "195     ROSANE        70  @hotmail.com     rosane@hotmail.com           6\n",
       "196    IVONETE       313    @gmail.com      ivonete@gmail.com           1\n",
       "197    LUCIANE       363  @hotmail.com    luciane@hotmail.com           1\n",
       "198    ISADORA       126    @gmail.com      isadora@gmail.com           1\n",
       "199      NILZA        80    @gmail.com        nilza@gmail.com           2\n",
       "\n",
       "[400 rows x 5 columns]"
      ],
      "text/html": "<div>\n<style scoped>\n    .dataframe tbody tr th:only-of-type {\n        vertical-align: middle;\n    }\n\n    .dataframe tbody tr th {\n        vertical-align: top;\n    }\n\n    .dataframe thead th {\n        text-align: right;\n    }\n</style>\n<table border=\"1\" class=\"dataframe\">\n  <thead>\n    <tr style=\"text-align: right;\">\n      <th></th>\n      <th>nome</th>\n      <th>id_aluno</th>\n      <th>dominio</th>\n      <th>email</th>\n      <th>matriculas</th>\n    </tr>\n  </thead>\n  <tbody>\n    <tr>\n      <th>0</th>\n      <td>JOSE</td>\n      <td>234</td>\n      <td>@hotmail.com</td>\n      <td>jose@hotmail.com</td>\n      <td>1</td>\n    </tr>\n    <tr>\n      <th>1</th>\n      <td>JOAO</td>\n      <td>51</td>\n      <td>@gmail.com</td>\n      <td>joao@gmail.com</td>\n      <td>1</td>\n    </tr>\n    <tr>\n      <th>2</th>\n      <td>ANTONIO</td>\n      <td>41</td>\n      <td>@hotmail.com</td>\n      <td>antonio@hotmail.com</td>\n      <td>3</td>\n    </tr>\n    <tr>\n      <th>3</th>\n      <td>FRANCISCO</td>\n      <td>323</td>\n      <td>@hotmail.com</td>\n      <td>francisco@hotmail.com</td>\n      <td>1</td>\n    </tr>\n    <tr>\n      <th>4</th>\n      <td>CARLOS</td>\n      <td>143</td>\n      <td>@hotmail.com</td>\n      <td>carlos@hotmail.com</td>\n      <td>2</td>\n    </tr>\n    <tr>\n      <th>...</th>\n      <td>...</td>\n      <td>...</td>\n      <td>...</td>\n      <td>...</td>\n      <td>...</td>\n    </tr>\n    <tr>\n      <th>195</th>\n      <td>ROSANE</td>\n      <td>70</td>\n      <td>@hotmail.com</td>\n      <td>rosane@hotmail.com</td>\n      <td>6</td>\n    </tr>\n    <tr>\n      <th>196</th>\n      <td>IVONETE</td>\n      <td>313</td>\n      <td>@gmail.com</td>\n      <td>ivonete@gmail.com</td>\n      <td>1</td>\n    </tr>\n    <tr>\n      <th>197</th>\n      <td>LUCIANE</td>\n      <td>363</td>\n      <td>@hotmail.com</td>\n      <td>luciane@hotmail.com</td>\n      <td>1</td>\n    </tr>\n    <tr>\n      <th>198</th>\n      <td>ISADORA</td>\n      <td>126</td>\n      <td>@gmail.com</td>\n      <td>isadora@gmail.com</td>\n      <td>1</td>\n    </tr>\n    <tr>\n      <th>199</th>\n      <td>NILZA</td>\n      <td>80</td>\n      <td>@gmail.com</td>\n      <td>nilza@gmail.com</td>\n      <td>2</td>\n    </tr>\n  </tbody>\n</table>\n<p>400 rows × 5 columns</p>\n</div>"
     },
     "metadata": {},
     "execution_count": 82
    }
   ],
   "source": [
    "tabela\n",
    "cursos\n",
    "nomes\n",
    "matriculas"
   ]
  },
  {
   "source": [
    "### Exportando para csv"
   ],
   "cell_type": "markdown",
   "metadata": {}
  },
  {
   "cell_type": "code",
   "execution_count": 89,
   "metadata": {},
   "outputs": [],
   "source": [
    "cursos.to_csv('cursos.csv', index=False)\n",
    "tabela.to_csv('tabela.csv', index=False)\n",
    "nomes.to_csv('nomes.csv', index=False)"
   ]
  },
  {
   "source": [
    "### Exportando para Json"
   ],
   "cell_type": "markdown",
   "metadata": {}
  },
  {
   "cell_type": "code",
   "execution_count": 83,
   "metadata": {},
   "outputs": [],
   "source": [
    "cursos_json = cursos.to_json()"
   ]
  },
  {
   "cell_type": "code",
   "execution_count": 85,
   "metadata": {},
   "outputs": [
    {
     "output_type": "execute_result",
     "data": {
      "text/plain": [
       "'{\"nome_do_curso\":{\"1\":\"L\\\\u00f3gica de programa\\\\u00e7\\\\u00e3o\",\"2\":\"Java para Web\",\"3\":\"C# para Web\",\"4\":\"Ruby on Rails\",\"5\":\"Cursos de Python\",\"6\":\"PHP com MySql\",\"7\":\".NET para web\",\"8\":\"Novas integra\\\\u00e7\\\\u00f5es com Java\",\"9\":\"TDD com Java\",\"10\":\"C\\\\u00f3digo limpo com C#\",\"11\":\"Preparat\\\\u00f3rio para certifica\\\\u00e7\\\\u00e3o Java\",\"12\":\"Hardware b\\\\u00e1sico\",\"13\":\"Persist\\\\u00eancia com .NET\",\"14\":\"Desenvolvendo jogos\",\"15\":\"An\\\\u00e1lise de dados\",\"16\":\"Estat\\\\u00edstica b\\\\u00e1sica\",\"17\":\"Internet das coisas\",\"18\":\"Programa\\\\u00e7\\\\u00e3o funcional\",\"19\":\"Boas pr\\\\u00e1ticas em Java\",\"20\":\"Orienta\\\\u00e7\\\\u00e3o objetos com Java\"}}'"
      ]
     },
     "metadata": {},
     "execution_count": 85
    }
   ],
   "source": [
    "cursos_json"
   ]
  },
  {
   "cell_type": "code",
   "execution_count": 86,
   "metadata": {},
   "outputs": [],
   "source": [
    "tabela_json = tabela.to_json()"
   ]
  },
  {
   "cell_type": "code",
   "execution_count": 87,
   "metadata": {},
   "outputs": [
    {
     "output_type": "execute_result",
     "data": {
      "text/plain": [
       "'{\"quantidade_de_alunos\":{\"1\":73,\"2\":30,\"3\":54,\"4\":21,\"5\":26,\"6\":52,\"7\":37,\"8\":61,\"9\":69,\"10\":35,\"11\":49,\"12\":45,\"13\":50,\"14\":35,\"15\":65,\"16\":4,\"17\":10,\"18\":9,\"19\":42,\"20\":66},\"nome_do_curso\":{\"1\":\"L\\\\u00f3gica de programa\\\\u00e7\\\\u00e3o\",\"2\":\"Java para Web\",\"3\":\"C# para Web\",\"4\":\"Ruby on Rails\",\"5\":\"Cursos de Python\",\"6\":\"PHP com MySql\",\"7\":\".NET para web\",\"8\":\"Novas integra\\\\u00e7\\\\u00f5es com Java\",\"9\":\"TDD com Java\",\"10\":\"C\\\\u00f3digo limpo com C#\",\"11\":\"Preparat\\\\u00f3rio para certifica\\\\u00e7\\\\u00e3o Java\",\"12\":\"Hardware b\\\\u00e1sico\",\"13\":\"Persist\\\\u00eancia com .NET\",\"14\":\"Desenvolvendo jogos\",\"15\":\"An\\\\u00e1lise de dados\",\"16\":\"Estat\\\\u00edstica b\\\\u00e1sica\",\"17\":\"Internet das coisas\",\"18\":\"Programa\\\\u00e7\\\\u00e3o funcional\",\"19\":\"Boas pr\\\\u00e1ticas em Java\",\"20\":\"Orienta\\\\u00e7\\\\u00e3o objetos com Java\"}}'"
      ]
     },
     "metadata": {},
     "execution_count": 87
    }
   ],
   "source": [
    "tabela_json"
   ]
  },
  {
   "source": [
    "### Exportando para html"
   ],
   "cell_type": "markdown",
   "metadata": {}
  },
  {
   "cell_type": "code",
   "execution_count": 88,
   "metadata": {},
   "outputs": [],
   "source": [
    "tabela.to_html('tabela.html')"
   ]
  },
  {
   "source": [
    "## Criando Banco SQL e adicionando tabelas"
   ],
   "cell_type": "markdown",
   "metadata": {}
  },
  {
   "cell_type": "code",
   "execution_count": 90,
   "metadata": {},
   "outputs": [],
   "source": [
    "from sqlalchemy import create_engine, MetaData, Table"
   ]
  },
  {
   "cell_type": "code",
   "execution_count": 91,
   "metadata": {},
   "outputs": [],
   "source": [
    "engine = create_engine('sqlite:///:memory:')"
   ]
  },
  {
   "cell_type": "code",
   "execution_count": 92,
   "metadata": {},
   "outputs": [
    {
     "output_type": "execute_result",
     "data": {
      "text/plain": [
       "sqlalchemy.engine.base.Engine"
      ]
     },
     "metadata": {},
     "execution_count": 92
    }
   ],
   "source": [
    "type(engine)"
   ]
  },
  {
   "cell_type": "code",
   "execution_count": 94,
   "metadata": {},
   "outputs": [],
   "source": [
    "tabela.to_sql('matriculas', engine)"
   ]
  },
  {
   "cell_type": "code",
   "execution_count": 95,
   "metadata": {},
   "outputs": [
    {
     "output_type": "execute_result",
     "data": {
      "text/plain": [
       "['matriculas']"
      ]
     },
     "metadata": {},
     "execution_count": 95
    }
   ],
   "source": [
    "engine.table_names()"
   ]
  },
  {
   "source": [
    "### Fazendo querys no banco"
   ],
   "cell_type": "markdown",
   "metadata": {}
  },
  {
   "cell_type": "code",
   "execution_count": 103,
   "metadata": {},
   "outputs": [],
   "source": [
    "query = 'select * from matriculas where quantidade_de_alunos < 20'"
   ]
  },
  {
   "cell_type": "code",
   "execution_count": 104,
   "metadata": {},
   "outputs": [
    {
     "output_type": "execute_result",
     "data": {
      "text/plain": [
       "   id_curso  quantidade_de_alunos          nome_do_curso\n",
       "0        16                     4     Estatística básica\n",
       "1        17                    10    Internet das coisas\n",
       "2        18                     9  Programação funcional"
      ],
      "text/html": "<div>\n<style scoped>\n    .dataframe tbody tr th:only-of-type {\n        vertical-align: middle;\n    }\n\n    .dataframe tbody tr th {\n        vertical-align: top;\n    }\n\n    .dataframe thead th {\n        text-align: right;\n    }\n</style>\n<table border=\"1\" class=\"dataframe\">\n  <thead>\n    <tr style=\"text-align: right;\">\n      <th></th>\n      <th>id_curso</th>\n      <th>quantidade_de_alunos</th>\n      <th>nome_do_curso</th>\n    </tr>\n  </thead>\n  <tbody>\n    <tr>\n      <th>0</th>\n      <td>16</td>\n      <td>4</td>\n      <td>Estatística básica</td>\n    </tr>\n    <tr>\n      <th>1</th>\n      <td>17</td>\n      <td>10</td>\n      <td>Internet das coisas</td>\n    </tr>\n    <tr>\n      <th>2</th>\n      <td>18</td>\n      <td>9</td>\n      <td>Programação funcional</td>\n    </tr>\n  </tbody>\n</table>\n</div>"
     },
     "metadata": {},
     "execution_count": 104
    }
   ],
   "source": [
    "pd.read_sql(query, engine)"
   ]
  },
  {
   "cell_type": "code",
   "execution_count": 105,
   "metadata": {},
   "outputs": [],
   "source": [
    "tabela_lida_sql = pd.read_sql_table('matriculas', engine, columns=['nome_do_curso', 'quantidade_de_alunos'])"
   ]
  },
  {
   "cell_type": "code",
   "execution_count": 109,
   "metadata": {},
   "outputs": [],
   "source": [
    "muitas_matriculas = tabela_lida_sql.query('quantidade_de_alunos > 50')"
   ]
  },
  {
   "cell_type": "code",
   "execution_count": 110,
   "metadata": {},
   "outputs": [
    {
     "output_type": "execute_result",
     "data": {
      "text/plain": [
       "                  nome_do_curso  quantidade_de_alunos\n",
       "0         Lógica de programação                    73\n",
       "2                   C# para Web                    54\n",
       "5                 PHP com MySql                    52\n",
       "7    Novas integrações com Java                    61\n",
       "8                  TDD com Java                    69\n",
       "14             Análise de dados                    65\n",
       "19  Orientação objetos com Java                    66"
      ],
      "text/html": "<div>\n<style scoped>\n    .dataframe tbody tr th:only-of-type {\n        vertical-align: middle;\n    }\n\n    .dataframe tbody tr th {\n        vertical-align: top;\n    }\n\n    .dataframe thead th {\n        text-align: right;\n    }\n</style>\n<table border=\"1\" class=\"dataframe\">\n  <thead>\n    <tr style=\"text-align: right;\">\n      <th></th>\n      <th>nome_do_curso</th>\n      <th>quantidade_de_alunos</th>\n    </tr>\n  </thead>\n  <tbody>\n    <tr>\n      <th>0</th>\n      <td>Lógica de programação</td>\n      <td>73</td>\n    </tr>\n    <tr>\n      <th>2</th>\n      <td>C# para Web</td>\n      <td>54</td>\n    </tr>\n    <tr>\n      <th>5</th>\n      <td>PHP com MySql</td>\n      <td>52</td>\n    </tr>\n    <tr>\n      <th>7</th>\n      <td>Novas integrações com Java</td>\n      <td>61</td>\n    </tr>\n    <tr>\n      <th>8</th>\n      <td>TDD com Java</td>\n      <td>69</td>\n    </tr>\n    <tr>\n      <th>14</th>\n      <td>Análise de dados</td>\n      <td>65</td>\n    </tr>\n    <tr>\n      <th>19</th>\n      <td>Orientação objetos com Java</td>\n      <td>66</td>\n    </tr>\n  </tbody>\n</table>\n</div>"
     },
     "metadata": {},
     "execution_count": 110
    }
   ],
   "source": [
    "muitas_matriculas"
   ]
  },
  {
   "source": [
    "## Selecionando alunos para uma próxima turma\n"
   ],
   "cell_type": "markdown",
   "metadata": {}
  },
  {
   "cell_type": "code",
   "execution_count": 112,
   "metadata": {},
   "outputs": [
    {
     "output_type": "execute_result",
     "data": {
      "text/plain": [
       "          quantidade_de_alunos                        nome_do_curso\n",
       "id_curso                                                           \n",
       "1                           73                Lógica de programação\n",
       "2                           30                        Java para Web\n",
       "3                           54                          C# para Web\n",
       "4                           21                        Ruby on Rails\n",
       "5                           26                     Cursos de Python\n",
       "6                           52                        PHP com MySql\n",
       "7                           37                        .NET para web\n",
       "8                           61           Novas integrações com Java\n",
       "9                           69                         TDD com Java\n",
       "10                          35                  Código limpo com C#\n",
       "11                          49  Preparatório para certificação Java\n",
       "12                          45                      Hardware básico\n",
       "13                          50                Persistência com .NET\n",
       "14                          35                  Desenvolvendo jogos\n",
       "15                          65                     Análise de dados\n",
       "16                           4                   Estatística básica\n",
       "17                          10                  Internet das coisas\n",
       "18                           9                Programação funcional\n",
       "19                          42                Boas práticas em Java\n",
       "20                          66          Orientação objetos com Java"
      ],
      "text/html": "<div>\n<style scoped>\n    .dataframe tbody tr th:only-of-type {\n        vertical-align: middle;\n    }\n\n    .dataframe tbody tr th {\n        vertical-align: top;\n    }\n\n    .dataframe thead th {\n        text-align: right;\n    }\n</style>\n<table border=\"1\" class=\"dataframe\">\n  <thead>\n    <tr style=\"text-align: right;\">\n      <th></th>\n      <th>quantidade_de_alunos</th>\n      <th>nome_do_curso</th>\n    </tr>\n    <tr>\n      <th>id_curso</th>\n      <th></th>\n      <th></th>\n    </tr>\n  </thead>\n  <tbody>\n    <tr>\n      <th>1</th>\n      <td>73</td>\n      <td>Lógica de programação</td>\n    </tr>\n    <tr>\n      <th>2</th>\n      <td>30</td>\n      <td>Java para Web</td>\n    </tr>\n    <tr>\n      <th>3</th>\n      <td>54</td>\n      <td>C# para Web</td>\n    </tr>\n    <tr>\n      <th>4</th>\n      <td>21</td>\n      <td>Ruby on Rails</td>\n    </tr>\n    <tr>\n      <th>5</th>\n      <td>26</td>\n      <td>Cursos de Python</td>\n    </tr>\n    <tr>\n      <th>6</th>\n      <td>52</td>\n      <td>PHP com MySql</td>\n    </tr>\n    <tr>\n      <th>7</th>\n      <td>37</td>\n      <td>.NET para web</td>\n    </tr>\n    <tr>\n      <th>8</th>\n      <td>61</td>\n      <td>Novas integrações com Java</td>\n    </tr>\n    <tr>\n      <th>9</th>\n      <td>69</td>\n      <td>TDD com Java</td>\n    </tr>\n    <tr>\n      <th>10</th>\n      <td>35</td>\n      <td>Código limpo com C#</td>\n    </tr>\n    <tr>\n      <th>11</th>\n      <td>49</td>\n      <td>Preparatório para certificação Java</td>\n    </tr>\n    <tr>\n      <th>12</th>\n      <td>45</td>\n      <td>Hardware básico</td>\n    </tr>\n    <tr>\n      <th>13</th>\n      <td>50</td>\n      <td>Persistência com .NET</td>\n    </tr>\n    <tr>\n      <th>14</th>\n      <td>35</td>\n      <td>Desenvolvendo jogos</td>\n    </tr>\n    <tr>\n      <th>15</th>\n      <td>65</td>\n      <td>Análise de dados</td>\n    </tr>\n    <tr>\n      <th>16</th>\n      <td>4</td>\n      <td>Estatística básica</td>\n    </tr>\n    <tr>\n      <th>17</th>\n      <td>10</td>\n      <td>Internet das coisas</td>\n    </tr>\n    <tr>\n      <th>18</th>\n      <td>9</td>\n      <td>Programação funcional</td>\n    </tr>\n    <tr>\n      <th>19</th>\n      <td>42</td>\n      <td>Boas práticas em Java</td>\n    </tr>\n    <tr>\n      <th>20</th>\n      <td>66</td>\n      <td>Orientação objetos com Java</td>\n    </tr>\n  </tbody>\n</table>\n</div>"
     },
     "metadata": {},
     "execution_count": 112
    }
   ],
   "source": [
    "tabela"
   ]
  },
  {
   "source": [
    "### Escolheremos a turma de Ruby on Rails"
   ],
   "cell_type": "markdown",
   "metadata": {}
  },
  {
   "cell_type": "code",
   "execution_count": 114,
   "metadata": {},
   "outputs": [],
   "source": [
    "id_curso = 4\n",
    "proxima_turma = matriculas.query('id_curso == {}'.format(id_curso))"
   ]
  },
  {
   "cell_type": "code",
   "execution_count": 115,
   "metadata": {},
   "outputs": [
    {
     "output_type": "execute_result",
     "data": {
      "text/plain": [
       "     id_aluno  id_curso\n",
       "44        220         4\n",
       "58          5         4\n",
       "81        273         4\n",
       "124       347         4\n",
       "195       203         4\n",
       "221       255         4\n",
       "400        52         4\n",
       "410        18         4\n",
       "463        91         4\n",
       "471       309         4\n",
       "547       272         4\n",
       "555       243         4\n",
       "602       200         4\n",
       "622       391         4\n",
       "636       135         4\n",
       "645       373         4\n",
       "700       397         4\n",
       "758        27         4\n",
       "762       173         4\n",
       "776       205         4\n",
       "802       357         4"
      ],
      "text/html": "<div>\n<style scoped>\n    .dataframe tbody tr th:only-of-type {\n        vertical-align: middle;\n    }\n\n    .dataframe tbody tr th {\n        vertical-align: top;\n    }\n\n    .dataframe thead th {\n        text-align: right;\n    }\n</style>\n<table border=\"1\" class=\"dataframe\">\n  <thead>\n    <tr style=\"text-align: right;\">\n      <th></th>\n      <th>id_aluno</th>\n      <th>id_curso</th>\n    </tr>\n  </thead>\n  <tbody>\n    <tr>\n      <th>44</th>\n      <td>220</td>\n      <td>4</td>\n    </tr>\n    <tr>\n      <th>58</th>\n      <td>5</td>\n      <td>4</td>\n    </tr>\n    <tr>\n      <th>81</th>\n      <td>273</td>\n      <td>4</td>\n    </tr>\n    <tr>\n      <th>124</th>\n      <td>347</td>\n      <td>4</td>\n    </tr>\n    <tr>\n      <th>195</th>\n      <td>203</td>\n      <td>4</td>\n    </tr>\n    <tr>\n      <th>221</th>\n      <td>255</td>\n      <td>4</td>\n    </tr>\n    <tr>\n      <th>400</th>\n      <td>52</td>\n      <td>4</td>\n    </tr>\n    <tr>\n      <th>410</th>\n      <td>18</td>\n      <td>4</td>\n    </tr>\n    <tr>\n      <th>463</th>\n      <td>91</td>\n      <td>4</td>\n    </tr>\n    <tr>\n      <th>471</th>\n      <td>309</td>\n      <td>4</td>\n    </tr>\n    <tr>\n      <th>547</th>\n      <td>272</td>\n      <td>4</td>\n    </tr>\n    <tr>\n      <th>555</th>\n      <td>243</td>\n      <td>4</td>\n    </tr>\n    <tr>\n      <th>602</th>\n      <td>200</td>\n      <td>4</td>\n    </tr>\n    <tr>\n      <th>622</th>\n      <td>391</td>\n      <td>4</td>\n    </tr>\n    <tr>\n      <th>636</th>\n      <td>135</td>\n      <td>4</td>\n    </tr>\n    <tr>\n      <th>645</th>\n      <td>373</td>\n      <td>4</td>\n    </tr>\n    <tr>\n      <th>700</th>\n      <td>397</td>\n      <td>4</td>\n    </tr>\n    <tr>\n      <th>758</th>\n      <td>27</td>\n      <td>4</td>\n    </tr>\n    <tr>\n      <th>762</th>\n      <td>173</td>\n      <td>4</td>\n    </tr>\n    <tr>\n      <th>776</th>\n      <td>205</td>\n      <td>4</td>\n    </tr>\n    <tr>\n      <th>802</th>\n      <td>357</td>\n      <td>4</td>\n    </tr>\n  </tbody>\n</table>\n</div>"
     },
     "metadata": {},
     "execution_count": 115
    }
   ],
   "source": [
    "proxima_turma"
   ]
  },
  {
   "cell_type": "code",
   "execution_count": 119,
   "metadata": {},
   "outputs": [],
   "source": [
    "proxima_turma = proxima_turma.set_index('id_aluno').join(nomes.set_index('id_aluno'))['nome'].to_frame()"
   ]
  },
  {
   "cell_type": "code",
   "execution_count": 120,
   "metadata": {},
   "outputs": [
    {
     "output_type": "execute_result",
     "data": {
      "text/plain": [
       "                nome\n",
       "id_aluno            \n",
       "220            FABIO\n",
       "5            RICARDO\n",
       "273          MATHEUS\n",
       "347         MAURICIO\n",
       "203          ADILSON\n",
       "255            ARTUR\n",
       "52              ERIC\n",
       "18            WESLEI\n",
       "91           JESSICA\n",
       "309          MARIANA\n",
       "272           REGINA\n",
       "243           ISABEL\n",
       "200           FATIMA\n",
       "391            TANIA\n",
       "135            KATIA\n",
       "373       ELISANGELA\n",
       "397         ROSILENE\n",
       "27             ESTER\n",
       "173           MARISA\n",
       "205           REBECA\n",
       "357           SHEILA"
      ],
      "text/html": "<div>\n<style scoped>\n    .dataframe tbody tr th:only-of-type {\n        vertical-align: middle;\n    }\n\n    .dataframe tbody tr th {\n        vertical-align: top;\n    }\n\n    .dataframe thead th {\n        text-align: right;\n    }\n</style>\n<table border=\"1\" class=\"dataframe\">\n  <thead>\n    <tr style=\"text-align: right;\">\n      <th></th>\n      <th>nome</th>\n    </tr>\n    <tr>\n      <th>id_aluno</th>\n      <th></th>\n    </tr>\n  </thead>\n  <tbody>\n    <tr>\n      <th>220</th>\n      <td>FABIO</td>\n    </tr>\n    <tr>\n      <th>5</th>\n      <td>RICARDO</td>\n    </tr>\n    <tr>\n      <th>273</th>\n      <td>MATHEUS</td>\n    </tr>\n    <tr>\n      <th>347</th>\n      <td>MAURICIO</td>\n    </tr>\n    <tr>\n      <th>203</th>\n      <td>ADILSON</td>\n    </tr>\n    <tr>\n      <th>255</th>\n      <td>ARTUR</td>\n    </tr>\n    <tr>\n      <th>52</th>\n      <td>ERIC</td>\n    </tr>\n    <tr>\n      <th>18</th>\n      <td>WESLEI</td>\n    </tr>\n    <tr>\n      <th>91</th>\n      <td>JESSICA</td>\n    </tr>\n    <tr>\n      <th>309</th>\n      <td>MARIANA</td>\n    </tr>\n    <tr>\n      <th>272</th>\n      <td>REGINA</td>\n    </tr>\n    <tr>\n      <th>243</th>\n      <td>ISABEL</td>\n    </tr>\n    <tr>\n      <th>200</th>\n      <td>FATIMA</td>\n    </tr>\n    <tr>\n      <th>391</th>\n      <td>TANIA</td>\n    </tr>\n    <tr>\n      <th>135</th>\n      <td>KATIA</td>\n    </tr>\n    <tr>\n      <th>373</th>\n      <td>ELISANGELA</td>\n    </tr>\n    <tr>\n      <th>397</th>\n      <td>ROSILENE</td>\n    </tr>\n    <tr>\n      <th>27</th>\n      <td>ESTER</td>\n    </tr>\n    <tr>\n      <th>173</th>\n      <td>MARISA</td>\n    </tr>\n    <tr>\n      <th>205</th>\n      <td>REBECA</td>\n    </tr>\n    <tr>\n      <th>357</th>\n      <td>SHEILA</td>\n    </tr>\n  </tbody>\n</table>\n</div>"
     },
     "metadata": {},
     "execution_count": 120
    }
   ],
   "source": [
    "proxima_turma"
   ]
  },
  {
   "cell_type": "code",
   "execution_count": 121,
   "metadata": {},
   "outputs": [
    {
     "output_type": "execute_result",
     "data": {
      "text/plain": [
       "nome_do_curso    Ruby on Rails\n",
       "Name: 4, dtype: object"
      ]
     },
     "metadata": {},
     "execution_count": 121
    }
   ],
   "source": [
    "nome_curso = cursos.loc[id_curso]\n",
    "nome_curso"
   ]
  },
  {
   "cell_type": "code",
   "execution_count": 124,
   "metadata": {},
   "outputs": [],
   "source": [
    "proxima_turma = proxima_turma.rename(columns={'nome': 'Alunos matriculados na turma de {}'.format(nome_curso.nome_do_curso)})"
   ]
  },
  {
   "cell_type": "code",
   "execution_count": 125,
   "metadata": {},
   "outputs": [
    {
     "output_type": "execute_result",
     "data": {
      "text/plain": [
       "         Alunos matriculados na turma de Ruby on Rails\n",
       "id_aluno                                              \n",
       "220                                              FABIO\n",
       "5                                              RICARDO\n",
       "273                                            MATHEUS\n",
       "347                                           MAURICIO\n",
       "203                                            ADILSON\n",
       "255                                              ARTUR\n",
       "52                                                ERIC\n",
       "18                                              WESLEI\n",
       "91                                             JESSICA\n",
       "309                                            MARIANA\n",
       "272                                             REGINA\n",
       "243                                             ISABEL\n",
       "200                                             FATIMA\n",
       "391                                              TANIA\n",
       "135                                              KATIA\n",
       "373                                         ELISANGELA\n",
       "397                                           ROSILENE\n",
       "27                                               ESTER\n",
       "173                                             MARISA\n",
       "205                                             REBECA\n",
       "357                                             SHEILA"
      ],
      "text/html": "<div>\n<style scoped>\n    .dataframe tbody tr th:only-of-type {\n        vertical-align: middle;\n    }\n\n    .dataframe tbody tr th {\n        vertical-align: top;\n    }\n\n    .dataframe thead th {\n        text-align: right;\n    }\n</style>\n<table border=\"1\" class=\"dataframe\">\n  <thead>\n    <tr style=\"text-align: right;\">\n      <th></th>\n      <th>Alunos matriculados na turma de Ruby on Rails</th>\n    </tr>\n    <tr>\n      <th>id_aluno</th>\n      <th></th>\n    </tr>\n  </thead>\n  <tbody>\n    <tr>\n      <th>220</th>\n      <td>FABIO</td>\n    </tr>\n    <tr>\n      <th>5</th>\n      <td>RICARDO</td>\n    </tr>\n    <tr>\n      <th>273</th>\n      <td>MATHEUS</td>\n    </tr>\n    <tr>\n      <th>347</th>\n      <td>MAURICIO</td>\n    </tr>\n    <tr>\n      <th>203</th>\n      <td>ADILSON</td>\n    </tr>\n    <tr>\n      <th>255</th>\n      <td>ARTUR</td>\n    </tr>\n    <tr>\n      <th>52</th>\n      <td>ERIC</td>\n    </tr>\n    <tr>\n      <th>18</th>\n      <td>WESLEI</td>\n    </tr>\n    <tr>\n      <th>91</th>\n      <td>JESSICA</td>\n    </tr>\n    <tr>\n      <th>309</th>\n      <td>MARIANA</td>\n    </tr>\n    <tr>\n      <th>272</th>\n      <td>REGINA</td>\n    </tr>\n    <tr>\n      <th>243</th>\n      <td>ISABEL</td>\n    </tr>\n    <tr>\n      <th>200</th>\n      <td>FATIMA</td>\n    </tr>\n    <tr>\n      <th>391</th>\n      <td>TANIA</td>\n    </tr>\n    <tr>\n      <th>135</th>\n      <td>KATIA</td>\n    </tr>\n    <tr>\n      <th>373</th>\n      <td>ELISANGELA</td>\n    </tr>\n    <tr>\n      <th>397</th>\n      <td>ROSILENE</td>\n    </tr>\n    <tr>\n      <th>27</th>\n      <td>ESTER</td>\n    </tr>\n    <tr>\n      <th>173</th>\n      <td>MARISA</td>\n    </tr>\n    <tr>\n      <th>205</th>\n      <td>REBECA</td>\n    </tr>\n    <tr>\n      <th>357</th>\n      <td>SHEILA</td>\n    </tr>\n  </tbody>\n</table>\n</div>"
     },
     "metadata": {},
     "execution_count": 125
    }
   ],
   "source": [
    "proxima_turma"
   ]
  },
  {
   "source": [
    "#### Exportando para Excel"
   ],
   "cell_type": "markdown",
   "metadata": {}
  },
  {
   "cell_type": "code",
   "execution_count": 130,
   "metadata": {},
   "outputs": [],
   "source": [
    "proxima_turma.to_excel('proxima_turma.xlsx', index=False)"
   ]
  }
 ]
}